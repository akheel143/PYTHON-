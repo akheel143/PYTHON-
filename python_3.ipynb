{
  "nbformat": 4,
  "nbformat_minor": 0,
  "metadata": {
    "colab": {
      "name": "python 3",
      "provenance": [],
      "collapsed_sections": [],
      "authorship_tag": "ABX9TyP+kMFINzbDRAQyvw/gAc75",
      "include_colab_link": true
    },
    "kernelspec": {
      "name": "python3",
      "display_name": "Python 3"
    },
    "language_info": {
      "name": "python"
    }
  },
  "cells": [
    {
      "cell_type": "markdown",
      "metadata": {
        "id": "view-in-github",
        "colab_type": "text"
      },
      "source": [
        "<a href=\"https://colab.research.google.com/github/akheel143/PYTHON-/blob/main/python_3.ipynb\" target=\"_parent\"><img src=\"https://colab.research.google.com/assets/colab-badge.svg\" alt=\"Open In Colab\"/></a>"
      ]
    },
    {
      "cell_type": "markdown",
      "source": [
        "**if, elif, else Conditions**"
      ],
      "metadata": {
        "id": "F2_V4UmvFGH-"
      }
    },
    {
      "cell_type": "markdown",
      "source": [
        "Python uses the if keyword to implement decision control\n",
        "\n",
        "if [boolean expression]:\n",
        "    \n",
        "    statement1\n",
        "    \n",
        "    statement2\n",
        "    \n",
        "    ...\n",
        "    \n",
        "    statementN"
      ],
      "metadata": {
        "id": "whceNtCWFIxF"
      }
    },
    {
      "cell_type": "code",
      "execution_count": null,
      "metadata": {
        "colab": {
          "base_uri": "https://localhost:8080/"
        },
        "id": "4TYCyMD_E7w_",
        "outputId": "40afbb8c-f294-4dda-91c3-ff21c03735cb"
      },
      "outputs": [
        {
          "output_type": "stream",
          "name": "stdout",
          "text": [
            "price is less than 100\n"
          ]
        }
      ],
      "source": [
        "price=50\n",
        "if price < 100:\n",
        "    print(\"price is less than 100\")"
      ]
    },
    {
      "cell_type": "code",
      "source": [
        "price= 50\n",
        "quantity = 5\n",
        "if price*quantity < 500:\n",
        "    print(\"price*quantity is less than 500\")\n",
        "    print(\"price = \", price)\n",
        "    print(\"quantity = \", quantity)"
      ],
      "metadata": {
        "colab": {
          "base_uri": "https://localhost:8080/"
        },
        "id": "hWjtXsDQFvWn",
        "outputId": "b4c0006a-4cb8-43c8-b69e-43f730e27185"
      },
      "execution_count": null,
      "outputs": [
        {
          "output_type": "stream",
          "name": "stdout",
          "text": [
            "price*quantity is less than 500\n",
            "price =  50\n",
            "quantity =  5\n"
          ]
        }
      ]
    },
    {
      "cell_type": "code",
      "source": [
        "#The statements with the same indentation level as if condition will not consider in the if block.\n",
        "#They will consider out of the if condition.\n",
        "price=50\n",
        "quantity = 5\n",
        "if price*quantity < 100:\n",
        "    print(\"price is less than 500\")\n",
        "    print(\"price = \", price)\n",
        "    print(\"quantity = \", quantity)\n",
        "print(\"No if block executed.\")"
      ],
      "metadata": {
        "colab": {
          "base_uri": "https://localhost:8080/"
        },
        "id": "xCICFunCFvTP",
        "outputId": "80fae885-fb4c-44dd-e6d9-7febfeea4ac4"
      },
      "execution_count": null,
      "outputs": [
        {
          "output_type": "stream",
          "name": "stdout",
          "text": [
            "No if block executed.\n"
          ]
        }
      ]
    },
    {
      "cell_type": "code",
      "source": [
        "price=100\n",
        "\n",
        "if price > 100:\n",
        " print(\"price is greater than 100\")\n",
        "\n",
        "if price == 100:\n",
        "  print(\"price is 100\")\n",
        "\n",
        "if price < 100:\n",
        "    print(\"price is less than 100\")"
      ],
      "metadata": {
        "colab": {
          "base_uri": "https://localhost:8080/"
        },
        "id": "ISWUSni8FvQ2",
        "outputId": "a404e4fe-5879-451e-b053-96730c37fd3f"
      },
      "execution_count": null,
      "outputs": [
        {
          "output_type": "stream",
          "name": "stdout",
          "text": [
            "price is 100\n"
          ]
        }
      ]
    },
    {
      "cell_type": "code",
      "source": [
        "price= 50\n",
        "if price >= 100:\n",
        "    print(\"price is greater than 100\")\n",
        "else:\n",
        "    print(\"price is less than 100\")"
      ],
      "metadata": {
        "colab": {
          "base_uri": "https://localhost:8080/"
        },
        "id": "8LRuKhZVFvOO",
        "outputId": "83c886da-bcdd-4169-f532-12a6844ba3cf"
      },
      "execution_count": null,
      "outputs": [
        {
          "output_type": "stream",
          "name": "stdout",
          "text": [
            "price is less than 100\n"
          ]
        }
      ]
    },
    {
      "cell_type": "code",
      "source": [
        "price= 100\n",
        "if price > 100:\n",
        "    print(\"price is greater than 100\")\n",
        "elif price == 100:\n",
        "    print(\"price is 100\")\n",
        "elif price < 100:\n",
        "    print(\"price is less than 100\")"
      ],
      "metadata": {
        "colab": {
          "base_uri": "https://localhost:8080/"
        },
        "id": "UFnst20-FvLu",
        "outputId": "4c991068-e78f-43dd-968c-abbcefc61d31"
      },
      "execution_count": null,
      "outputs": [
        {
          "output_type": "stream",
          "name": "stdout",
          "text": [
            "price is 100\n"
          ]
        }
      ]
    },
    {
      "cell_type": "code",
      "source": [
        "price= 50\n",
        "if price > 100:\n",
        "  print(\"price is greater than 100\")\n",
        "elif price == 100:\n",
        "  print(\"price is 100\")\n",
        "else:\n",
        "  print(\"price is less than 100\")"
      ],
      "metadata": {
        "colab": {
          "base_uri": "https://localhost:8080/"
        },
        "id": "J1x5ITJMFvJP",
        "outputId": "2abde883-6b0f-4831-8a54-87b2c0b4fb26"
      },
      "execution_count": null,
      "outputs": [
        {
          "output_type": "stream",
          "name": "stdout",
          "text": [
            "price is less than 100\n"
          ]
        }
      ]
    },
    {
      "cell_type": "code",
      "source": [
        "def user_check(choice):\n",
        "    if choice == 1:\n",
        "        print(\"Admin\")\n",
        "    elif choice == 2:\n",
        "        print(\"Editor\")\n",
        "    elif choice == 3:\n",
        "        print(\"Guest\")\n",
        "    else:\n",
        "        print(\"Wrong entry\")\n",
        "\n",
        "user_check(1)\n",
        "user_check(2)\n",
        "user_check(3)\n",
        "user_check(4)"
      ],
      "metadata": {
        "colab": {
          "base_uri": "https://localhost:8080/"
        },
        "id": "1PHCFhGMQQsd",
        "outputId": "dc7cd660-fec5-452b-a98e-3f129c520c7c"
      },
      "execution_count": null,
      "outputs": [
        {
          "output_type": "stream",
          "name": "stdout",
          "text": [
            "Admin\n",
            "Editor\n",
            "Guest\n",
            "Wrong entry\n"
          ]
        }
      ]
    },
    {
      "cell_type": "code",
      "source": [
        "number = 56\n",
        "if number > 0: print(\"positive\") \n",
        "else: print(\"negative\")"
      ],
      "metadata": {
        "colab": {
          "base_uri": "https://localhost:8080/"
        },
        "id": "Eyko3jAoRJqp",
        "outputId": "9d3b717a-8d26-4c77-e72f-77a1753813b9"
      },
      "execution_count": null,
      "outputs": [
        {
          "output_type": "stream",
          "name": "stdout",
          "text": [
            "positive\n"
          ]
        }
      ]
    },
    {
      "cell_type": "markdown",
      "source": [
        "**Nested if, elif, else Conditions**"
      ],
      "metadata": {
        "id": "Jx8CvGw7HEWb"
      }
    },
    {
      "cell_type": "code",
      "source": [
        "num1 = int(input('Enter first number '))\n",
        "num2 = int(input('Enter second number '))\n",
        "\n",
        "if num1 >= num2:\n",
        "    if num1 == num2:\n",
        "        print(num1, 'and', num2, 'are equal')\n",
        "    else:\n",
        "        print(num1, 'is greater than', num2)\n",
        "else:\n",
        "    print(num1, 'is smaller than', num2)"
      ],
      "metadata": {
        "colab": {
          "base_uri": "https://localhost:8080/"
        },
        "id": "oSY8grAuQ9XS",
        "outputId": "e6fc0d2d-4913-414c-83c0-c5ee54a33450"
      },
      "execution_count": null,
      "outputs": [
        {
          "output_type": "stream",
          "name": "stdout",
          "text": [
            "Enter first number 2\n",
            "Enter second number 3\n",
            "2 is smaller than 3\n"
          ]
        }
      ]
    },
    {
      "cell_type": "code",
      "source": [
        "price= 50\n",
        "quantity = 5\n",
        "amount = price*quantity\n",
        "\n",
        "if amount > 100:\n",
        "    if amount > 500:\n",
        "        print(\"Amount is greater than 500\")\n",
        "    else:\n",
        "        if amount < 500 and amount > 400:\n",
        "            print(\"Amount is\")\n",
        "        elif amount < 500 and amount > 300:\n",
        "            print(\"Amount is between 300 and 500\")\n",
        "        else:\n",
        "            print(\"Amount is between 200 and 500\")\n",
        "elif amount == 100:\n",
        "    print(\"Amount is 100\")\n",
        "else:\n",
        "    print(\"Amount is less than 100\")"
      ],
      "metadata": {
        "colab": {
          "base_uri": "https://localhost:8080/"
        },
        "id": "rpEfV7OqFvGk",
        "outputId": "71e72ef1-1ba4-4ba9-b384-333ab45594e8"
      },
      "execution_count": null,
      "outputs": [
        {
          "output_type": "stream",
          "name": "stdout",
          "text": [
            "Amount is between 200 and 500\n"
          ]
        }
      ]
    },
    {
      "cell_type": "code",
      "source": [
        ""
      ],
      "metadata": {
        "id": "Lut5KKGPRHaK"
      },
      "execution_count": null,
      "outputs": []
    },
    {
      "cell_type": "markdown",
      "source": [
        "**While Loop**"
      ],
      "metadata": {
        "id": "1bTdIusJHavp"
      }
    },
    {
      "cell_type": "code",
      "source": [
        "num=0\n",
        "while num < 5:\n",
        "    print('num = ', num)\n",
        "    num = num + 1"
      ],
      "metadata": {
        "colab": {
          "base_uri": "https://localhost:8080/"
        },
        "id": "cVf1svWfHVDb",
        "outputId": "d0c76f45-f16d-4fd6-ebc1-02adb6f452dd"
      },
      "execution_count": null,
      "outputs": [
        {
          "output_type": "stream",
          "name": "stdout",
          "text": [
            "num =  0\n",
            "num =  1\n",
            "num =  2\n",
            "num =  3\n",
            "num =  4\n"
          ]
        }
      ]
    },
    {
      "cell_type": "code",
      "source": [
        "num=0\n",
        "while num < 5:\n",
        "    num += 1   # num += 1 is same as num = num + 1\n",
        "    print('num = ', num)\n",
        "    if num == 3: # condition before exiting a loop\n",
        "        break"
      ],
      "metadata": {
        "id": "n-8aybpJIM0u"
      },
      "execution_count": null,
      "outputs": []
    },
    {
      "cell_type": "code",
      "source": [
        "num=0\n",
        "while num < 5:\n",
        "\tnum += 1   # num += 1 is same as num = num + 1\n",
        "\tif num > 3: # condition before exiting a loop\n",
        "\t\tcontinue\n",
        "\tprint('num = ', num)"
      ],
      "metadata": {
        "colab": {
          "base_uri": "https://localhost:8080/"
        },
        "id": "9wp2mRFLI3XO",
        "outputId": "d1e57595-9396-42da-b38f-5d6eca97977f"
      },
      "execution_count": null,
      "outputs": [
        {
          "output_type": "stream",
          "name": "stdout",
          "text": [
            "num =  1\n",
            "num =  2\n",
            "num =  3\n"
          ]
        }
      ]
    },
    {
      "cell_type": "code",
      "source": [
        "num=0\n",
        "while num < 3:\n",
        "\tnum += 1   # num += 1 is same as num = num + 1\n",
        "\tprint('num = ', num)\n",
        "else:\n",
        "    print('else block executed')"
      ],
      "metadata": {
        "colab": {
          "base_uri": "https://localhost:8080/"
        },
        "id": "X8sOH06uKeqx",
        "outputId": "d106e7e0-1bc7-4ac6-d433-12b533a36052"
      },
      "execution_count": null,
      "outputs": [
        {
          "output_type": "stream",
          "name": "stdout",
          "text": [
            "num =  1\n",
            "num =  2\n",
            "num =  3\n",
            "else block executed\n"
          ]
        }
      ]
    },
    {
      "cell_type": "code",
      "source": [
        "num=0\n",
        "count=0\n",
        "sum=0\n",
        "while num>=0:\n",
        "    num = int(input('enter any number .. -1 to exit: '))#u can enter any num >0 if u want to exit enter less than 0 \n",
        "    if num >= 0:\n",
        "        count = count + 1 # this counts number of inputs\n",
        "        sum = sum + num # this adds input number cumulatively.\n",
        "avg = sum/count\n",
        "print('Total numbers: ', count, ', Average: ', avg)"
      ],
      "metadata": {
        "colab": {
          "base_uri": "https://localhost:8080/"
        },
        "id": "DXeziHumKk-S",
        "outputId": "1c0b088b-604e-4574-98cc-81eb940dad0e"
      },
      "execution_count": null,
      "outputs": [
        {
          "output_type": "stream",
          "name": "stdout",
          "text": [
            "enter any number .. -1 to exit: 10\n",
            "enter any number .. -1 to exit: 20\n",
            "enter any number .. -1 to exit: 23\n",
            "enter any number .. -1 to exit: -1\n",
            "Total numbers:  3 , Average:  17.666666666666668\n"
          ]
        }
      ]
    },
    {
      "cell_type": "code",
      "source": [
        "even_num=0\n",
        "while even_num<10:\n",
        "    even_num+=1\n",
        "    if even_num%2==0:\n",
        "      print(even_num)"
      ],
      "metadata": {
        "colab": {
          "base_uri": "https://localhost:8080/"
        },
        "id": "UF5GCixHKkw9",
        "outputId": "f74911c5-106d-43cd-97df-9fb8d9486b13"
      },
      "execution_count": null,
      "outputs": [
        {
          "output_type": "stream",
          "name": "stdout",
          "text": [
            "2\n",
            "4\n",
            "6\n",
            "8\n",
            "10\n"
          ]
        }
      ]
    },
    {
      "cell_type": "code",
      "source": [
        "x = 1\n",
        "while x <= 5: print(x,end=\" \"); x = x+1"
      ],
      "metadata": {
        "colab": {
          "base_uri": "https://localhost:8080/"
        },
        "id": "00Seq9hwRZzW",
        "outputId": "77d61088-dde4-4600-c75e-a7e644c6961a"
      },
      "execution_count": null,
      "outputs": [
        {
          "output_type": "stream",
          "name": "stdout",
          "text": [
            "1 2 3 4 5 "
          ]
        }
      ]
    },
    {
      "cell_type": "markdown",
      "source": [
        "For Loop"
      ],
      "metadata": {
        "id": "kt1D-Sb_M6dy"
      }
    },
    {
      "cell_type": "code",
      "source": [
        "nums=[10, 20, 30, 40, 50]\n",
        "for i in nums:\n",
        "    print(i)"
      ],
      "metadata": {
        "colab": {
          "base_uri": "https://localhost:8080/"
        },
        "id": "rqJdHvgxKktr",
        "outputId": "c97a8a79-cf6e-4ffc-c164-909a316d0e84"
      },
      "execution_count": null,
      "outputs": [
        {
          "output_type": "stream",
          "name": "stdout",
          "text": [
            "10\n",
            "20\n",
            "30\n",
            "40\n",
            "50\n"
          ]
        }
      ]
    },
    {
      "cell_type": "code",
      "source": [
        "num= (10, 20, 30, 40, 50)\n",
        "for i in nums:\n",
        "    print(i)"
      ],
      "metadata": {
        "colab": {
          "base_uri": "https://localhost:8080/"
        },
        "id": "c_ZiYBgQNl3g",
        "outputId": "7afcaea5-bb29-4ee2-86b0-ac563996d2c9"
      },
      "execution_count": null,
      "outputs": [
        {
          "output_type": "stream",
          "name": "stdout",
          "text": [
            "10\n",
            "20\n",
            "30\n",
            "40\n",
            "50\n"
          ]
        }
      ]
    },
    {
      "cell_type": "code",
      "source": [
        "for char in 'Hello':\n",
        "    print (char)"
      ],
      "metadata": {
        "colab": {
          "base_uri": "https://localhost:8080/"
        },
        "id": "tpcWTHivNqub",
        "outputId": "36087bc4-b387-4f46-be55-f94c17764796"
      },
      "execution_count": null,
      "outputs": [
        {
          "output_type": "stream",
          "name": "stdout",
          "text": [
            "H\n",
            "e\n",
            "l\n",
            "l\n",
            "o\n"
          ]
        }
      ]
    },
    {
      "cell_type": "code",
      "source": [
        "names = { 1:'One', 2: 'Two', 3: 'Three'}\n",
        "for pair in names:\n",
        "    print(pair)"
      ],
      "metadata": {
        "colab": {
          "base_uri": "https://localhost:8080/"
        },
        "id": "lI-O4p_SN76w",
        "outputId": "cda45e57-d0a2-49ea-b56d-184bab957119"
      },
      "execution_count": null,
      "outputs": [
        {
          "output_type": "stream",
          "name": "stdout",
          "text": [
            "1\n",
            "2\n",
            "3\n"
          ]
        }
      ]
    },
    {
      "cell_type": "code",
      "source": [
        "names = { 1:'One', 2: 'Two', 3: 'Three'}\n",
        "for pair in names:\n",
        "    print(names[pair])"
      ],
      "metadata": {
        "colab": {
          "base_uri": "https://localhost:8080/"
        },
        "id": "n6b5oS1rOHiR",
        "outputId": "5099db0c-b62c-41e8-892c-ba2a4c859b0f"
      },
      "execution_count": null,
      "outputs": [
        {
          "output_type": "stream",
          "name": "stdout",
          "text": [
            "One\n",
            "Two\n",
            "Three\n"
          ]
        }
      ]
    },
    {
      "cell_type": "code",
      "source": [
        "names = { 1:'One', 2: 'Two', 3: 'Three'}\n",
        "for pair in names.items():\n",
        "    print(pair)"
      ],
      "metadata": {
        "colab": {
          "base_uri": "https://localhost:8080/"
        },
        "id": "LVCFN2K6Nw02",
        "outputId": "edc1c128-bea8-470d-8891-992a4b829211"
      },
      "execution_count": null,
      "outputs": [
        {
          "output_type": "stream",
          "name": "stdout",
          "text": [
            "(1, 'One')\n",
            "(2, 'Two')\n",
            "(3, 'Three')\n"
          ]
        }
      ]
    },
    {
      "cell_type": "code",
      "source": [
        "names = { 1:'One', 2: 'Two', 3: 'Three'}\n",
        "for p,r in names.items():\n",
        "    print(p,r)"
      ],
      "metadata": {
        "colab": {
          "base_uri": "https://localhost:8080/"
        },
        "id": "3LzO5He1OFXP",
        "outputId": "868994a1-78c6-4ffe-bba2-2610e81b1cce"
      },
      "execution_count": null,
      "outputs": [
        {
          "output_type": "stream",
          "name": "stdout",
          "text": [
            "1 One\n",
            "2 Two\n",
            "3 Three\n"
          ]
        }
      ]
    },
    {
      "cell_type": "code",
      "source": [
        "for i in range(5):\n",
        "    print(i)"
      ],
      "metadata": {
        "colab": {
          "base_uri": "https://localhost:8080/"
        },
        "id": "0LkMR0hBOfmF",
        "outputId": "8f22093f-5328-41ad-ca35-5e2edc18dc3a"
      },
      "execution_count": null,
      "outputs": [
        {
          "output_type": "stream",
          "name": "stdout",
          "text": [
            "0\n",
            "1\n",
            "2\n",
            "3\n",
            "4\n"
          ]
        }
      ]
    },
    {
      "cell_type": "code",
      "source": [
        "for i in range(1, 5):\n",
        "    if i > 2:\n",
        "        break\n",
        "    print(i)"
      ],
      "metadata": {
        "colab": {
          "base_uri": "https://localhost:8080/"
        },
        "id": "qLGiuT94OrAT",
        "outputId": "02e52dc4-6126-47ec-b8b5-aba2e225dc0b"
      },
      "execution_count": null,
      "outputs": [
        {
          "output_type": "stream",
          "name": "stdout",
          "text": [
            "1\n",
            "2\n"
          ]
        }
      ]
    },
    {
      "cell_type": "code",
      "source": [
        "for i in range(1, 5):\n",
        "    if i > 3:\n",
        "        continue\n",
        "    print(i)"
      ],
      "metadata": {
        "colab": {
          "base_uri": "https://localhost:8080/"
        },
        "id": "Oh4k12-6OxYx",
        "outputId": "c9b188a6-f460-44e9-a499-429eb94c6490"
      },
      "execution_count": null,
      "outputs": [
        {
          "output_type": "stream",
          "name": "stdout",
          "text": [
            "1\n",
            "2\n",
            "3\n"
          ]
        }
      ]
    },
    {
      "cell_type": "code",
      "source": [
        "for i in range(2):\n",
        "    print(i)\n",
        "else:\n",
        "     print('End of for loop')"
      ],
      "metadata": {
        "colab": {
          "base_uri": "https://localhost:8080/"
        },
        "id": "54gznT52O7oX",
        "outputId": "9d3e0010-6c2b-4583-8b1a-c3e1459bc2b7"
      },
      "execution_count": null,
      "outputs": [
        {
          "output_type": "stream",
          "name": "stdout",
          "text": [
            "0\n",
            "1\n",
            "End of for loop\n"
          ]
        }
      ]
    },
    {
      "cell_type": "code",
      "source": [
        "months = ['January', 'June', 'March', 'April']\n",
        "for mon in months:\n",
        "    pass\n",
        "print(months)"
      ],
      "metadata": {
        "colab": {
          "base_uri": "https://localhost:8080/"
        },
        "id": "QLfsjvcMRk1p",
        "outputId": "e1d877b1-9071-4d13-ae82-9cd59498055e"
      },
      "execution_count": null,
      "outputs": [
        {
          "output_type": "stream",
          "name": "stdout",
          "text": [
            "['January', 'June', 'March', 'April']\n"
          ]
        }
      ]
    },
    {
      "cell_type": "code",
      "source": [
        "# Print First 10 natural numbers using while loop\n",
        "i=0\n",
        "while i<10:\n",
        "  print(i)\n",
        "  i+=1"
      ],
      "metadata": {
        "id": "L0HKlhkyRxVE"
      },
      "execution_count": null,
      "outputs": []
    },
    {
      "cell_type": "markdown",
      "source": [
        "Write a program to print the following number pattern using a loop.\n",
        "\n",
        "1 \n",
        "\n",
        "1 2 \n",
        "\n",
        "1 2 3 \n",
        "\n",
        "1 2 3 4 \n",
        "\n",
        "1 2 3 4 5"
      ],
      "metadata": {
        "id": "7ta8QakFSUPD"
      }
    },
    {
      "cell_type": "code",
      "source": [
        "for x in range(1,4):\n",
        "    for y in range(1,3):\n",
        "        print(x,y) "
      ],
      "metadata": {
        "colab": {
          "base_uri": "https://localhost:8080/"
        },
        "id": "ZxYo3LkTPCvI",
        "outputId": "7d3a4e25-8703-416c-91cf-ea1c7ba89b21"
      },
      "execution_count": null,
      "outputs": [
        {
          "output_type": "stream",
          "name": "stdout",
          "text": [
            "1 1\n",
            "1 2\n",
            "2 1\n",
            "2 2\n",
            "3 1\n",
            "3 2\n"
          ]
        }
      ]
    },
    {
      "cell_type": "code",
      "source": [
        "for i in range(9,50):\n",
        "  if i%2==0:\n",
        "    print(i)\n",
        "for j in range(9,50,2):\n",
        "  print(j)"
      ],
      "metadata": {
        "id": "HSTQQ7FcXmAQ"
      },
      "execution_count": null,
      "outputs": []
    },
    {
      "cell_type": "code",
      "source": [
        "#Count the total number of ‘m’ in a given string.\n",
        "#Direct method\n",
        "name='mariya mennen'\n",
        "print(name.count('m'))\n",
        "#for loop\n",
        "count=0\n",
        "for i in name:\n",
        "  if i!='m':\n",
        "    continue\n",
        "  else:\n",
        "    count+=1\n",
        "print(count)"
      ],
      "metadata": {
        "colab": {
          "base_uri": "https://localhost:8080/"
        },
        "id": "q_hgd0BaXog8",
        "outputId": "49ba01e0-87d0-4137-a88b-9b2d1003e0f1"
      },
      "execution_count": 2,
      "outputs": [
        {
          "output_type": "stream",
          "name": "stdout",
          "text": [
            "2\n",
            "2\n"
          ]
        }
      ]
    },
    {
      "cell_type": "code",
      "source": [
        "count = 0\n",
        "for i in range(1, 6):\n",
        "    count = count + 1\n",
        "    if count > 2:\n",
        "        break\n",
        "    else:\n",
        "        print(i)\n",
        "else:\n",
        "    print(\"Done\")"
      ],
      "metadata": {
        "colab": {
          "base_uri": "https://localhost:8080/"
        },
        "id": "ltl83nInXodg",
        "outputId": "96cfa253-5379-4313-fbff-88c7079f3053"
      },
      "execution_count": 3,
      "outputs": [
        {
          "output_type": "stream",
          "name": "stdout",
          "text": [
            "1\n",
            "2\n"
          ]
        }
      ]
    },
    {
      "cell_type": "code",
      "source": [
        "# Reversed numbers using reversed() function\n",
        "list1 = [10, 20, 30, 40]\n",
        "for num in reversed(list1):\n",
        "    print(num)"
      ],
      "metadata": {
        "colab": {
          "base_uri": "https://localhost:8080/"
        },
        "id": "XDG_wT4jXobE",
        "outputId": "61d8e53f-d6c1-4cde-8130-d0e82b6b799e"
      },
      "execution_count": 4,
      "outputs": [
        {
          "output_type": "stream",
          "name": "stdout",
          "text": [
            "40\n",
            "30\n",
            "20\n",
            "10\n"
          ]
        }
      ]
    },
    {
      "cell_type": "code",
      "source": [
        "print(\"Reverse numbers using for loop\")\n",
        "num = 5\n",
        "# start = 5\n",
        "# stop = -1\n",
        "# step = -1\n",
        "for num in (range(num, -1, -1)):\n",
        "  print(num)\n",
        "print('\\n')\n",
        "num=[1,2,3,4,5]\n",
        "for i in num[::-1]:\n",
        "  print(i)\n",
        "#direct method\n",
        "print(num[::-1]) "
      ],
      "metadata": {
        "colab": {
          "base_uri": "https://localhost:8080/"
        },
        "id": "15r9i08SXoYw",
        "outputId": "d3985b84-cb8e-4703-a877-32fbe07e7091"
      },
      "execution_count": 5,
      "outputs": [
        {
          "output_type": "stream",
          "name": "stdout",
          "text": [
            "Reverse numbers using for loop\n",
            "5\n",
            "4\n",
            "3\n",
            "2\n",
            "1\n",
            "0\n",
            "\n",
            "\n",
            "5\n",
            "4\n",
            "3\n",
            "2\n",
            "1\n",
            "[5, 4, 3, 2, 1]\n"
          ]
        }
      ]
    },
    {
      "cell_type": "code",
      "source": [
        "for i in reversed(range(1,4)):print('*'*i)"
      ],
      "metadata": {
        "colab": {
          "base_uri": "https://localhost:8080/"
        },
        "id": "EYuXjY3JXoWe",
        "outputId": "772c8221-2d43-498e-cc3a-a5e95fda2558"
      },
      "execution_count": 6,
      "outputs": [
        {
          "output_type": "stream",
          "name": "stdout",
          "text": [
            "***\n",
            "**\n",
            "*\n"
          ]
        }
      ]
    },
    {
      "cell_type": "code",
      "source": [
        "rows = 5\n",
        "# outer loop\n",
        "for i in range(1, rows + 1):\n",
        "    # inner loop\n",
        "    for j in range(1, i + 1):\n",
        "        print(\"*\", end=\" \")\n",
        "    print('')"
      ],
      "metadata": {
        "colab": {
          "base_uri": "https://localhost:8080/"
        },
        "id": "w6WBTgU0XoUL",
        "outputId": "f336a2f2-681f-4c0a-f573-d22ae74e3e88"
      },
      "execution_count": 7,
      "outputs": [
        {
          "output_type": "stream",
          "name": "stdout",
          "text": [
            "* \n",
            "* * \n",
            "* * * \n",
            "* * * * \n",
            "* * * * * \n"
          ]
        }
      ]
    },
    {
      "cell_type": "code",
      "source": [
        "i=1\n",
        "while i<2:\n",
        "  for k in range(1,6):\n",
        "    print('*'*k)\n",
        "    i+=1"
      ],
      "metadata": {
        "colab": {
          "base_uri": "https://localhost:8080/"
        },
        "id": "rcUOKOwTX7pH",
        "outputId": "71730edc-1e86-4057-dfad-5835f81191aa"
      },
      "execution_count": 8,
      "outputs": [
        {
          "output_type": "stream",
          "name": "stdout",
          "text": [
            "*\n",
            "**\n",
            "***\n",
            "****\n",
            "*****\n"
          ]
        }
      ]
    },
    {
      "cell_type": "code",
      "source": [
        "rows = 5\n",
        "# reverse for loop from 5 to 0\n",
        "for i in range(rows,0,-1):\n",
        "    for j in range(1, i + 1):\n",
        "        print('*',end=' ')\n",
        "    print('')"
      ],
      "metadata": {
        "colab": {
          "base_uri": "https://localhost:8080/"
        },
        "id": "05YbDBphX9ki",
        "outputId": "298a5332-1db6-4176-ba3b-5722429088c8"
      },
      "execution_count": 9,
      "outputs": [
        {
          "output_type": "stream",
          "name": "stdout",
          "text": [
            "* * * * * \n",
            "* * * * \n",
            "* * * \n",
            "* * \n",
            "* \n"
          ]
        }
      ]
    },
    {
      "cell_type": "code",
      "source": [
        "x=['apple','grapes','rapi']\n",
        "for i,j in enumerate(x):\n",
        "  print('index',i,'=',j)\n",
        "  k=3\n",
        "for i in range(k):\n",
        "  print('index',i,'is',x[i])"
      ],
      "metadata": {
        "colab": {
          "base_uri": "https://localhost:8080/"
        },
        "id": "-8LNBcLmYABj",
        "outputId": "4c1e8eb2-8f47-43c6-8383-da6aba578252"
      },
      "execution_count": 10,
      "outputs": [
        {
          "output_type": "stream",
          "name": "stdout",
          "text": [
            "index 0 = apple\n",
            "index 1 = grapes\n",
            "index 2 = rapi\n",
            "index 0 is apple\n",
            "index 1 is grapes\n",
            "index 2 is rapi\n"
          ]
        }
      ]
    },
    {
      "cell_type": "code",
      "source": [
        "name = \"Jessa\"\n",
        "for i in name[::-1]:\n",
        "    print(i, end=' ')\n",
        "print('\\n')\n",
        "name = \"Jessa\"\n",
        "for i in name:\n",
        "    print(i, end=' ')"
      ],
      "metadata": {
        "colab": {
          "base_uri": "https://localhost:8080/"
        },
        "id": "HF-YaCbgYCxM",
        "outputId": "2999b456-a61c-4112-b813-8503438e79ed"
      },
      "execution_count": 11,
      "outputs": [
        {
          "output_type": "stream",
          "name": "stdout",
          "text": [
            "a s s e J \n",
            "\n",
            "J e s s a "
          ]
        }
      ]
    },
    {
      "cell_type": "code",
      "source": [
        "dialogue = \"Remember, Red, hope is a good thing, maybe the best of things, and no good thing ever dies\"\n",
        "# split on whitespace\n",
        "for word in dialogue.split():\n",
        "    print(word)"
      ],
      "metadata": {
        "colab": {
          "base_uri": "https://localhost:8080/"
        },
        "id": "AEBgDlf6YEqo",
        "outputId": "00f08e8d-95ad-4107-cec4-32c1b80e8219"
      },
      "execution_count": 12,
      "outputs": [
        {
          "output_type": "stream",
          "name": "stdout",
          "text": [
            "Remember,\n",
            "Red,\n",
            "hope\n",
            "is\n",
            "a\n",
            "good\n",
            "thing,\n",
            "maybe\n",
            "the\n",
            "best\n",
            "of\n",
            "things,\n",
            "and\n",
            "no\n",
            "good\n",
            "thing\n",
            "ever\n",
            "dies\n"
          ]
        }
      ]
    },
    {
      "cell_type": "code",
      "source": [
        "dict1 = {\"Brand\": \"BMW\", \"Color\": \"Black\", \"Date\": 1964}\n",
        "for key in dict1:\n",
        "    print(key)\n",
        "print('\\n')\n",
        "\n",
        "dict1 = {\"Brand\": \"BMW\", \"Color\": \"Black\", \"Date\": 1964}\n",
        "for key in dict1:\n",
        "    print(dict1[key])\n",
        "print('\\n')\n",
        "\n",
        "dict1 = {\"Brand\": \"BMW\", \"Color\": \"Black\", \"Date\": 1964}\n",
        "for s in dict1.items():\n",
        "    print(s)"
      ],
      "metadata": {
        "colab": {
          "base_uri": "https://localhost:8080/"
        },
        "id": "VVv32yKaYHGz",
        "outputId": "ee4859fc-7d7c-421a-b1a9-312dcaf9817c"
      },
      "execution_count": 13,
      "outputs": [
        {
          "output_type": "stream",
          "name": "stdout",
          "text": [
            "Brand\n",
            "Color\n",
            "Date\n",
            "\n",
            "\n",
            "BMW\n",
            "Black\n",
            "1964\n",
            "\n",
            "\n",
            "('Brand', 'BMW')\n",
            "('Color', 'Black')\n",
            "('Date', 1964)\n"
          ]
        }
      ]
    }
  ]
}