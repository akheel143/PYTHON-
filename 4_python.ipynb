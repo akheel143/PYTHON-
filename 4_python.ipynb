{
  "nbformat": 4,
  "nbformat_minor": 0,
  "metadata": {
    "colab": {
      "name": "4.python",
      "provenance": [],
      "collapsed_sections": [],
      "authorship_tag": "ABX9TyNpDwZzz+7aJC7cp4nlfJdR",
      "include_colab_link": true
    },
    "kernelspec": {
      "name": "python3",
      "display_name": "Python 3"
    },
    "language_info": {
      "name": "python"
    }
  },
  "cells": [
    {
      "cell_type": "markdown",
      "metadata": {
        "id": "view-in-github",
        "colab_type": "text"
      },
      "source": [
        "<a href=\"https://colab.research.google.com/github/akheel143/PYTHON-/blob/main/4_python.ipynb\" target=\"_parent\"><img src=\"https://colab.research.google.com/assets/colab-badge.svg\" alt=\"Open In Colab\"/></a>"
      ]
    },
    {
      "cell_type": "markdown",
      "source": [
        "**Functions**"
      ],
      "metadata": {
        "id": "r5YRoJ4CEL5j"
      }
    },
    {
      "cell_type": "markdown",
      "source": [
        "A function is a reusable block of programming statements designed to perform a certain task. To define a function, Python provides the def keyword. The following is the syntax of defining a function."
      ],
      "metadata": {
        "id": "FhHpNHP6EUdw"
      }
    },
    {
      "cell_type": "code",
      "execution_count": null,
      "metadata": {
        "colab": {
          "base_uri": "https://localhost:8080/"
        },
        "id": "a9xhV64cD79Z",
        "outputId": "4c9d8ea5-2074-4676-aef4-f68a5d2ff247"
      },
      "outputs": [
        {
          "output_type": "stream",
          "name": "stdout",
          "text": [
            "hello world\n"
          ]
        }
      ],
      "source": [
        "def greet():\n",
        "  print('hello world')\n",
        "greet()"
      ]
    },
    {
      "cell_type": "code",
      "source": [
        "#Parameterized Function\n",
        "def greet(name):  \n",
        "    print ('Hello ', name)\n",
        "\n",
        "greet('Steve') # calling function with argument\n",
        "greet(123)"
      ],
      "metadata": {
        "colab": {
          "base_uri": "https://localhost:8080/"
        },
        "id": "896fnQRTElmq",
        "outputId": "00723f24-26e5-4f93-dd77-f70dafb27f14"
      },
      "execution_count": null,
      "outputs": [
        {
          "output_type": "stream",
          "name": "stdout",
          "text": [
            "Hello  Steve\n",
            "Hello  123\n"
          ]
        }
      ]
    },
    {
      "cell_type": "code",
      "source": [
        "def greet(name:str):  \n",
        "    print ('Hello ', name)\n",
        "\n",
        "greet('Steve') # calling function with string argument\n",
        "greet(123) # raise an error for int argument"
      ],
      "metadata": {
        "colab": {
          "base_uri": "https://localhost:8080/"
        },
        "id": "7wTFoSFtEtqC",
        "outputId": "0894334c-7f26-44de-899b-2c38e6325d17"
      },
      "execution_count": null,
      "outputs": [
        {
          "output_type": "stream",
          "name": "stdout",
          "text": [
            "Hello  Steve\n",
            "Hello  123\n"
          ]
        }
      ]
    },
    {
      "cell_type": "code",
      "source": [
        "# function with default argument\n",
        "def show_employee(name, salary=9000):\n",
        "    print(\"Name:\", name, \"salary:\", salary)\n",
        "\n",
        "show_employee(\"Ben\", 12000)\n",
        "show_employee(\"Jessa\")"
      ],
      "metadata": {
        "colab": {
          "base_uri": "https://localhost:8080/"
        },
        "id": "JfEIJPRAZofo",
        "outputId": "9e73810d-8d37-4733-db33-f32adc25a40f"
      },
      "execution_count": null,
      "outputs": [
        {
          "output_type": "stream",
          "name": "stdout",
          "text": [
            "Name: Ben salary: 12000\n",
            "Name: Jessa salary: 9000\n"
          ]
        }
      ]
    },
    {
      "cell_type": "code",
      "source": [
        "#Multi Parameters\n",
        "def greet(name1, name2, name3):  \n",
        "    print ('Hello ', name1, ' , ', name2 , ', and ', name3)\n",
        "\n",
        "greet('Steve', 'Bill', 'Yash') # calling function with string argument"
      ],
      "metadata": {
        "colab": {
          "base_uri": "https://localhost:8080/"
        },
        "id": "he-vaMqGrK0H",
        "outputId": "df3e14d8-d011-40c3-f5ab-5707a6937725"
      },
      "execution_count": null,
      "outputs": [
        {
          "output_type": "stream",
          "name": "stdout",
          "text": [
            "Hello  Steve  ,  Bill , and  Yash\n"
          ]
        }
      ]
    },
    {
      "cell_type": "code",
      "source": [
        "#Unknown number of Arguments\n",
        "def greet(*names):  \n",
        "    print ('Hello ', names[0], ', ', names[1], ', ', names[2])\n",
        "\n",
        "greet('Steve', 'Bill', 'Yash') "
      ],
      "metadata": {
        "colab": {
          "base_uri": "https://localhost:8080/"
        },
        "id": "ywI9LuNlrN9P",
        "outputId": "d0a9af89-f2c7-4b32-8869-d4e8c0c7ca9f"
      },
      "execution_count": null,
      "outputs": [
        {
          "output_type": "stream",
          "name": "stdout",
          "text": [
            "Hello  Steve ,  Bill ,  Yash\n"
          ]
        }
      ]
    },
    {
      "cell_type": "code",
      "source": [
        "def greet(*names):\n",
        "\ti=0\n",
        "\tprint('Hello ', end='')\n",
        "\twhile len(names) > i:\n",
        "\t\tprint(names[i], end=', ')\n",
        "\t\ti+=1\n",
        "\n",
        "greet('Steve', 'Bill', 'Yash') \n",
        "greet('Steve', 'Bill', 'Yash', 'Kapil', 'John', 'Amir') "
      ],
      "metadata": {
        "colab": {
          "base_uri": "https://localhost:8080/"
        },
        "id": "3guoN0ZzrN5Q",
        "outputId": "b5f4d4b2-4ffa-4f6d-f7b2-e2c7c4088ecb"
      },
      "execution_count": null,
      "outputs": [
        {
          "output_type": "stream",
          "name": "stdout",
          "text": [
            "Hello Steve, Bill, Yash, Hello Steve, Bill, Yash, Kapil, John, Amir, "
          ]
        }
      ]
    },
    {
      "cell_type": "code",
      "source": [
        "#Create a function with variable length of arguments\n",
        "def func1(*args):\n",
        "    for i in args:\n",
        "        print(i)\n",
        "\n",
        "func1(20, 40, 60)\n",
        "func1(80, 100)"
      ],
      "metadata": {
        "colab": {
          "base_uri": "https://localhost:8080/"
        },
        "id": "IKQKK2KnY9me",
        "outputId": "1ac1f29a-d525-4012-ed6d-356697dd6dfd"
      },
      "execution_count": null,
      "outputs": [
        {
          "output_type": "stream",
          "name": "stdout",
          "text": [
            "20\n",
            "40\n",
            "60\n",
            "80\n",
            "100\n"
          ]
        }
      ]
    },
    {
      "cell_type": "code",
      "source": [
        "# Return multiple values from a function\n",
        "def calculation(a, b):\n",
        "    addition = a + b\n",
        "    subtraction = a - b\n",
        "    # return multiple values separated by comma\n",
        "    return addition, subtraction\n",
        "\n",
        "# get result in tuple format\n",
        "res = calculation(40, 10)\n",
        "print(res)"
      ],
      "metadata": {
        "colab": {
          "base_uri": "https://localhost:8080/"
        },
        "id": "eJYKg-e7ZIl9",
        "outputId": "48f9590f-59fa-4b0d-9850-55937dde7584"
      },
      "execution_count": null,
      "outputs": [
        {
          "output_type": "stream",
          "name": "stdout",
          "text": [
            "(50, 30)\n"
          ]
        }
      ]
    },
    {
      "cell_type": "code",
      "source": [
        "def greet(firstname, lastname):\n",
        "    print ('Hello', firstname, lastname)\n",
        "\n",
        "greet(lastname='Jobs', firstname='Steve') \n",
        "greet('Jobs','Steve')\n",
        "# passing parameters in any order using keyword argument "
      ],
      "metadata": {
        "colab": {
          "base_uri": "https://localhost:8080/"
        },
        "id": "OPWBowJSrN3Y",
        "outputId": "b158e113-0195-4d7d-98b2-1f2924c77831"
      },
      "execution_count": null,
      "outputs": [
        {
          "output_type": "stream",
          "name": "stdout",
          "text": [
            "Hello Steve Jobs\n",
            "Hello Jobs Steve\n"
          ]
        }
      ]
    },
    {
      "cell_type": "code",
      "source": [
        "def greet(**person):\n",
        "\tprint('Hello ', person['firstname'],  person['lastname'])\n",
        "\n",
        "greet(firstname='Steve', lastname='Jobs')\n",
        "greet(lastname='Jobs', firstname='Steve')\n",
        "greet(firstname='Bill', lastname='Gates', age=55) "
      ],
      "metadata": {
        "colab": {
          "base_uri": "https://localhost:8080/"
        },
        "id": "7bEwPsPdrN01",
        "outputId": "b875c7ce-8258-4fc9-d7a1-3f71d75939b3"
      },
      "execution_count": null,
      "outputs": [
        {
          "output_type": "stream",
          "name": "stdout",
          "text": [
            "Hello  Steve Jobs\n",
            "Hello  Steve Jobs\n",
            "Hello  Bill Gates\n"
          ]
        }
      ]
    },
    {
      "cell_type": "code",
      "source": [
        "#Parameter with Default Value\n",
        "def greet(name = 'Guest'):\n",
        "    print ('Hello', name)\n",
        "\n",
        "greet()\n",
        "greet('Steve')"
      ],
      "metadata": {
        "colab": {
          "base_uri": "https://localhost:8080/"
        },
        "id": "NBJlk1FDrNyN",
        "outputId": "eedb8f1f-d88a-418c-c936-8e88d0e6b5d3"
      },
      "execution_count": null,
      "outputs": [
        {
          "output_type": "stream",
          "name": "stdout",
          "text": [
            "Hello Guest\n",
            "Hello Steve\n"
          ]
        }
      ]
    },
    {
      "cell_type": "code",
      "source": [
        "def sum(a, b): \n",
        "    return a + b\n",
        "sum(1,2)"
      ],
      "metadata": {
        "colab": {
          "base_uri": "https://localhost:8080/"
        },
        "id": "gLMPhbXmrNvo",
        "outputId": "22395f25-9b4d-4d66-bcfa-1997323702b0"
      },
      "execution_count": null,
      "outputs": [
        {
          "output_type": "execute_result",
          "data": {
            "text/plain": [
              "3"
            ]
          },
          "metadata": {},
          "execution_count": 10
        }
      ]
    },
    {
      "cell_type": "code",
      "source": [
        "total=sum(10, 20) \n",
        "print(total)\n",
        "total=sum(5, sum(10, 20))\n",
        "print(total)"
      ],
      "metadata": {
        "colab": {
          "base_uri": "https://localhost:8080/"
        },
        "id": "VYzaZuypvGNx",
        "outputId": "4f057523-b1ec-4cb9-c4e8-eb3924b2a174"
      },
      "execution_count": null,
      "outputs": [
        {
          "output_type": "stream",
          "name": "stdout",
          "text": [
            "30\n",
            "35\n"
          ]
        }
      ]
    },
    {
      "cell_type": "code",
      "source": [
        "# outer function\n",
        "def outer_fun(a, b):\n",
        "    square = a ** 2\n",
        "\n",
        "    # inner function\n",
        "    def addition(a, b):\n",
        "        return a + b\n",
        "\n",
        "    # call inner function from outer function\n",
        "    add = addition(a, b)\n",
        "    # add 5 to the result\n",
        "    return add + 5\n",
        "\n",
        "result = outer_fun(5, 10)\n",
        "print(result)"
      ],
      "metadata": {
        "id": "3Qd_7ggmZ-ct"
      },
      "execution_count": null,
      "outputs": []
    },
    {
      "cell_type": "code",
      "source": [
        "#Write a program to create a recursive function \n",
        "#to calculate the sum of numbers from 0 to 10.\n",
        "def addition(num):\n",
        "    if num:\n",
        "        # call same function by reducing number by 1\n",
        "        return num + addition(num - 1)\n",
        "    else:\n",
        "        return 0\n",
        "\n",
        "res = addition(10)\n",
        "print(res)"
      ],
      "metadata": {
        "colab": {
          "base_uri": "https://localhost:8080/"
        },
        "id": "15RmlLUxc_IT",
        "outputId": "700449ad-1f3e-45da-baae-b3199b90ec00"
      },
      "execution_count": null,
      "outputs": [
        {
          "output_type": "stream",
          "name": "stdout",
          "text": [
            "55\n"
          ]
        }
      ]
    },
    {
      "cell_type": "code",
      "source": [
        "#Assign a different name to function and call it through the new name\n",
        "def display_student(name, age):\n",
        "    print(name, age)\n",
        "\n",
        "# call using original name\n",
        "display_student(\"Emma\", 26)\n",
        "\n",
        "# assign new name\n",
        "showStudent = display_student\n",
        "# call using new name\n",
        "showStudent(\"Emma\", 26)\n"
      ],
      "metadata": {
        "id": "1Dt2KHufkx8N"
      },
      "execution_count": null,
      "outputs": []
    },
    {
      "cell_type": "code",
      "source": [
        "#Generate a Python list of all the even numbers between 4 to 30\n",
        "list(range(4,30,2))"
      ],
      "metadata": {
        "colab": {
          "base_uri": "https://localhost:8080/"
        },
        "id": "epNHHtiCl_Vx",
        "outputId": "1fd194bf-25b1-4d96-84ce-60d736938a16"
      },
      "execution_count": null,
      "outputs": [
        {
          "output_type": "execute_result",
          "data": {
            "text/plain": [
              "[4, 6, 8, 10, 12, 14, 16, 18, 20, 22, 24, 26, 28]"
            ]
          },
          "metadata": {},
          "execution_count": 70
        }
      ]
    },
    {
      "cell_type": "code",
      "source": [
        "#print max of numbers\n",
        "def num(x):\n",
        "  return max(x)\n",
        "num(range(10))"
      ],
      "metadata": {
        "colab": {
          "base_uri": "https://localhost:8080/"
        },
        "id": "jstip5YZmiDS",
        "outputId": "122ba39c-312d-4945-808b-8c1e7bf07d5b"
      },
      "execution_count": null,
      "outputs": [
        {
          "output_type": "execute_result",
          "data": {
            "text/plain": [
              "9"
            ]
          },
          "metadata": {},
          "execution_count": 75
        }
      ]
    },
    {
      "cell_type": "markdown",
      "source": [
        "Lambda Function"
      ],
      "metadata": {
        "id": "RgPKeWIcKSdD"
      }
    },
    {
      "cell_type": "code",
      "source": [
        "x =\"Mohammad Akheel\"\n",
        " \n",
        "# lambda gets pass to print\n",
        "(lambda x : print(x))(x)"
      ],
      "metadata": {
        "colab": {
          "base_uri": "https://localhost:8080/"
        },
        "id": "rMQmynMon6ym",
        "outputId": "d8a5928d-62af-43b5-bc89-b2431f5d6f78"
      },
      "execution_count": null,
      "outputs": [
        {
          "output_type": "stream",
          "name": "stdout",
          "text": [
            "Mohammad Akheel\n"
          ]
        }
      ]
    },
    {
      "cell_type": "code",
      "source": [
        "tables = [lambda x=x: x*10 for x in range(1, 11)]\n",
        " \n",
        "for table in tables:\n",
        "    print(table())"
      ],
      "metadata": {
        "colab": {
          "base_uri": "https://localhost:8080/"
        },
        "id": "-0lFfox4oM9c",
        "outputId": "d4cbbf0d-22e8-4193-ea20-62f033d157db"
      },
      "execution_count": null,
      "outputs": [
        {
          "output_type": "stream",
          "name": "stdout",
          "text": [
            "10\n",
            "20\n",
            "30\n",
            "40\n",
            "50\n",
            "60\n",
            "70\n",
            "80\n",
            "90\n",
            "100\n"
          ]
        }
      ]
    },
    {
      "cell_type": "code",
      "source": [
        "# Example of lambda function using if-else\n",
        "Max = lambda a, b : a if(a > b) else b\n",
        " \n",
        "print(Max(1, 2))"
      ],
      "metadata": {
        "id": "MK5kXXYdoriZ",
        "outputId": "2f24e7fb-ecbd-4ba3-baec-30761fb5a9ef",
        "colab": {
          "base_uri": "https://localhost:8080/"
        }
      },
      "execution_count": null,
      "outputs": [
        {
          "output_type": "stream",
          "name": "stdout",
          "text": [
            "2\n"
          ]
        }
      ]
    },
    {
      "cell_type": "code",
      "source": [
        "square=lambda x:x*x\n",
        "print(square(2))\n",
        "def square(x):\n",
        "    return x * x\n",
        "square(2)    "
      ],
      "metadata": {
        "colab": {
          "base_uri": "https://localhost:8080/"
        },
        "id": "gJpguHeKKK8E",
        "outputId": "55106b6f-a79d-473c-99eb-0f8feef2f0c3"
      },
      "execution_count": null,
      "outputs": [
        {
          "output_type": "stream",
          "name": "stdout",
          "text": [
            "4\n"
          ]
        },
        {
          "output_type": "execute_result",
          "data": {
            "text/plain": [
              "4"
            ]
          },
          "metadata": {},
          "execution_count": 14
        }
      ]
    },
    {
      "cell_type": "code",
      "source": [
        "greet=lambda name:name+'hi'\n",
        "print(greet('akheel '))\n",
        "greet=lambda name:print(name+'hi')\n",
        "greet('akheel ')"
      ],
      "metadata": {
        "colab": {
          "base_uri": "https://localhost:8080/"
        },
        "id": "6_EPIQQ3KpbN",
        "outputId": "9cf55150-0293-491a-b7ce-0f0b5168a773"
      },
      "execution_count": null,
      "outputs": [
        {
          "output_type": "stream",
          "name": "stdout",
          "text": [
            "akheel hi\n",
            "akheel hi\n"
          ]
        }
      ]
    },
    {
      "cell_type": "code",
      "source": [
        "addition=lambda x,y,z:x+y+z\n",
        "print(addition(1,2,3))\n",
        "addition=lambda *x:x[0]+x[1]+x[2]\n",
        "addition(1,2,3)"
      ],
      "metadata": {
        "colab": {
          "base_uri": "https://localhost:8080/"
        },
        "id": "JnMXDZ6pLAnw",
        "outputId": "bfe41dee-e1db-4240-a3ad-753f38e20a65"
      },
      "execution_count": null,
      "outputs": [
        {
          "output_type": "execute_result",
          "data": {
            "text/plain": [
              "6"
            ]
          },
          "metadata": {},
          "execution_count": 21
        }
      ]
    },
    {
      "cell_type": "code",
      "source": [
        "sqrList = map(lambda x: x*x, [1, 2, 3, 4]) # passing anonymous function\n",
        "print(next(sqrList))\n",
        "print(next(sqrList))\n",
        "print(next(sqrList))\n",
        "print(next(sqrList))"
      ],
      "metadata": {
        "colab": {
          "base_uri": "https://localhost:8080/"
        },
        "id": "qSeBLSZNLl7d",
        "outputId": "010a06fc-2dae-4c85-fc76-0ec54b9d98ce"
      },
      "execution_count": null,
      "outputs": [
        {
          "output_type": "stream",
          "name": "stdout",
          "text": [
            "1\n",
            "4\n",
            "9\n",
            "16\n"
          ]
        }
      ]
    },
    {
      "cell_type": "code",
      "source": [
        "#print the table of 10.\n",
        "tables = [lambda x=x: x*10 for x in range(1, 11)]\n",
        " \n",
        "for table in tables:\n",
        "    print(table())"
      ],
      "metadata": {
        "id": "1B5fq8TWnsJ0",
        "colab": {
          "base_uri": "https://localhost:8080/"
        },
        "outputId": "052be144-1c11-4ba5-89ae-5ac7941858e8"
      },
      "execution_count": null,
      "outputs": [
        {
          "output_type": "stream",
          "name": "stdout",
          "text": [
            "10\n",
            "20\n",
            "30\n",
            "40\n",
            "50\n",
            "60\n",
            "70\n",
            "80\n",
            "90\n",
            "100\n"
          ]
        }
      ]
    },
    {
      "cell_type": "code",
      "source": [
        "List = [[2,3,4],[1, 4, 16, 64],[3, 6, 9, 12]]\n",
        " \n",
        "# Sort each sublist\n",
        "sortList = lambda x: (sorted(i) for i in x)\n",
        "\n",
        "# Get the second largest element\n",
        "secondLargest = lambda x, f : [y[len(y)-2] for y in f(x)]\n",
        "res = secondLargest(List, sortList)\n",
        " \n",
        "print(res)"
      ],
      "metadata": {
        "id": "JmAbImM2nsGV",
        "colab": {
          "base_uri": "https://localhost:8080/"
        },
        "outputId": "68e6d689-3680-431c-f2df-3aa7d1ef53e3"
      },
      "execution_count": null,
      "outputs": [
        {
          "output_type": "stream",
          "name": "stdout",
          "text": [
            "[3, 16, 9]\n"
          ]
        }
      ]
    },
    {
      "cell_type": "code",
      "source": [
        "# filter() with lambda()\n",
        "li = [5, 7, 22, 97, 54, 62, 77, 23, 73, 61]\n",
        " \n",
        "final_list = list(filter(lambda x: (x%2 != 0) , li))\n",
        "print(final_list)"
      ],
      "metadata": {
        "id": "VnGmv81Ynr_T",
        "colab": {
          "base_uri": "https://localhost:8080/"
        },
        "outputId": "a58c8e6a-faaf-476b-d5d6-133b22a03a4a"
      },
      "execution_count": null,
      "outputs": [
        {
          "output_type": "stream",
          "name": "stdout",
          "text": [
            "[5, 7, 97, 77, 23, 73, 61]\n"
          ]
        }
      ]
    },
    {
      "cell_type": "code",
      "source": [
        "ages = [13, 90, 17, 59, 21, 60, 5]\n",
        " \n",
        "adults = list(filter(lambda age: age>18, ages))\n",
        " \n",
        "print(adults)"
      ],
      "metadata": {
        "colab": {
          "base_uri": "https://localhost:8080/"
        },
        "id": "zocLmUcUzqwJ",
        "outputId": "731ef0d1-b779-4491-9ba9-a847f688d836"
      },
      "execution_count": null,
      "outputs": [
        {
          "output_type": "stream",
          "name": "stdout",
          "text": [
            "[90, 59, 21, 60]\n"
          ]
        }
      ]
    },
    {
      "cell_type": "code",
      "source": [
        "# map() with lambda()\n",
        "# to get double of a list.\n",
        "li = [5, 7, 22, 97, 54, 62, 77, 23, 73, 61]\n",
        " \n",
        "final_list = list(map(lambda x: x*2, li))\n",
        "print(final_list)"
      ],
      "metadata": {
        "colab": {
          "base_uri": "https://localhost:8080/"
        },
        "id": "YNmAYqaIzqs0",
        "outputId": "dbcaf9ed-c61e-4d2d-95fe-b41edb32c547"
      },
      "execution_count": null,
      "outputs": [
        {
          "output_type": "stream",
          "name": "stdout",
          "text": [
            "[10, 14, 44, 194, 108, 124, 154, 46, 146, 122]\n"
          ]
        }
      ]
    },
    {
      "cell_type": "code",
      "source": [
        "# use of lambda() function\n",
        "# with map() function\n",
        "animals = ['dog', 'cat', 'parrot', 'rabbit']\n",
        " \n",
        "# here we intend to change all animal names\n",
        "# to upper case and return the same\n",
        "uppered_animals = list(map(lambda animal: str.upper(animal), animals))\n",
        " \n",
        "print(uppered_animals)"
      ],
      "metadata": {
        "colab": {
          "base_uri": "https://localhost:8080/"
        },
        "id": "9OVryIZ9zqpb",
        "outputId": "fa620812-7cef-4d41-c816-de50f609e0e8"
      },
      "execution_count": null,
      "outputs": [
        {
          "output_type": "stream",
          "name": "stdout",
          "text": [
            "['DOG', 'CAT', 'PARROT', 'RABBIT']\n"
          ]
        }
      ]
    },
    {
      "cell_type": "code",
      "source": [
        "# reduce() with lambda()\n",
        "# to get sum of a list\n",
        " \n",
        "from functools import reduce\n",
        "li = [5, 8, 10, 20, 50, 100]\n",
        "sum = reduce(lambda x, y: x + y, li)\n",
        "print (sum)"
      ],
      "metadata": {
        "colab": {
          "base_uri": "https://localhost:8080/"
        },
        "id": "ym-9qsOt2vST",
        "outputId": "0a659abf-6042-4da7-c2da-5f935cb40b6d"
      },
      "execution_count": null,
      "outputs": [
        {
          "output_type": "stream",
          "name": "stdout",
          "text": [
            "193\n"
          ]
        }
      ]
    },
    {
      "cell_type": "code",
      "source": [
        "lis=range(0,11)\n",
        "sum=reduce(lambda x,y:x+y,lis)\n",
        "sum"
      ],
      "metadata": {
        "colab": {
          "base_uri": "https://localhost:8080/"
        },
        "id": "NDSCn6nt2vO-",
        "outputId": "794add78-e40c-4fa8-8330-e5c8198d04c0"
      },
      "execution_count": null,
      "outputs": [
        {
          "output_type": "execute_result",
          "data": {
            "text/plain": [
              "55"
            ]
          },
          "metadata": {},
          "execution_count": 34
        }
      ]
    },
    {
      "cell_type": "code",
      "source": [
        "# importing functools for reduce()\n",
        "import functools\n",
        " \n",
        "# initializing list\n",
        "lis = [ 1 , 3, 5, 6, 2, ]\n",
        " \n",
        "# using reduce to compute maximum element from list\n",
        "print (\"The maximum element of the list is : \",end=\"\")\n",
        "print (functools.reduce(lambda a,b : a if a > b else b,lis))"
      ],
      "metadata": {
        "colab": {
          "base_uri": "https://localhost:8080/"
        },
        "id": "B8iyN6bk78At",
        "outputId": "a36d90e1-c142-4267-f0c2-0c2ae5ea30b9"
      },
      "execution_count": null,
      "outputs": [
        {
          "output_type": "stream",
          "name": "stdout",
          "text": [
            "The maximum element of the list is : 6\n"
          ]
        }
      ]
    },
    {
      "cell_type": "markdown",
      "source": [
        "**Variable_scope**"
      ],
      "metadata": {
        "id": "rgJTmWi3u6-L"
      }
    },
    {
      "cell_type": "code",
      "source": [
        "def greet():\n",
        "    name = 'Steve'\n",
        "    print('Hello ', name)"
      ],
      "metadata": {
        "id": "704SMFOVMYmw"
      },
      "execution_count": null,
      "outputs": []
    },
    {
      "cell_type": "code",
      "source": [
        "#Here, name is a local variable for the greet()\n",
        "#function and is not accessible outside of it.\n",
        "name"
      ],
      "metadata": {
        "colab": {
          "base_uri": "https://localhost:8080/",
          "height": 165
        },
        "id": "ENzm6BMwvFqh",
        "outputId": "ed891887-860d-4224-a600-df89bf12a340"
      },
      "execution_count": null,
      "outputs": [
        {
          "output_type": "error",
          "ename": "NameError",
          "evalue": "ignored",
          "traceback": [
            "\u001b[0;31m---------------------------------------------------------------------------\u001b[0m",
            "\u001b[0;31mNameError\u001b[0m                                 Traceback (most recent call last)",
            "\u001b[0;32m<ipython-input-2-9bc0cb2ed6de>\u001b[0m in \u001b[0;36m<module>\u001b[0;34m()\u001b[0m\n\u001b[0;32m----> 1\u001b[0;31m \u001b[0mname\u001b[0m\u001b[0;34m\u001b[0m\u001b[0;34m\u001b[0m\u001b[0m\n\u001b[0m",
            "\u001b[0;31mNameError\u001b[0m: name 'name' is not defined"
          ]
        }
      ]
    },
    {
      "cell_type": "code",
      "source": [
        "name='John'\n",
        "def greet():\n",
        "    print (\"Hello \", name)"
      ],
      "metadata": {
        "id": "yquxtazNvGhE"
      },
      "execution_count": null,
      "outputs": []
    },
    {
      "cell_type": "code",
      "source": [
        "#Now, you can access the global variable name \n",
        "#because it has been defined out of a function.\n",
        "name"
      ],
      "metadata": {
        "colab": {
          "base_uri": "https://localhost:8080/",
          "height": 35
        },
        "id": "20wk0Gl1vWnY",
        "outputId": "4b249ed5-8e49-4c3e-a979-9138db560add"
      },
      "execution_count": null,
      "outputs": [
        {
          "output_type": "execute_result",
          "data": {
            "application/vnd.google.colaboratory.intrinsic+json": {
              "type": "string"
            },
            "text/plain": [
              "'John'"
            ]
          },
          "metadata": {},
          "execution_count": 4
        }
      ]
    },
    {
      "cell_type": "code",
      "source": [
        "#Local and Global Variables\n",
        "name = 'Steve'\n",
        "def greet():\n",
        "    name = 'Bill'\n",
        "    print('Hello ', name)\n",
        "greet()\n",
        "name"
      ],
      "metadata": {
        "colab": {
          "base_uri": "https://localhost:8080/",
          "height": 53
        },
        "id": "R9sARUTWvXKi",
        "outputId": "a8c26c91-7b49-4ade-a213-0bd894d4e200"
      },
      "execution_count": null,
      "outputs": [
        {
          "output_type": "stream",
          "name": "stdout",
          "text": [
            "Hello  Bill\n"
          ]
        },
        {
          "output_type": "execute_result",
          "data": {
            "application/vnd.google.colaboratory.intrinsic+json": {
              "type": "string"
            },
            "text/plain": [
              "'Steve'"
            ]
          },
          "metadata": {},
          "execution_count": 7
        }
      ]
    },
    {
      "cell_type": "code",
      "source": [
        "#Access Global Variables\n",
        "name = 'Steve'\n",
        "def greet():\n",
        "    global name\n",
        "    name = 'Bill'\n",
        "    print('Hello ', name)\n",
        "greet()\n",
        "name"
      ],
      "metadata": {
        "colab": {
          "base_uri": "https://localhost:8080/",
          "height": 53
        },
        "id": "ezIIiOLOvmmh",
        "outputId": "cf7ed077-01c5-4009-c87b-340e2ff53888"
      },
      "execution_count": null,
      "outputs": [
        {
          "output_type": "stream",
          "name": "stdout",
          "text": [
            "Hello  Bill\n"
          ]
        },
        {
          "output_type": "execute_result",
          "data": {
            "application/vnd.google.colaboratory.intrinsic+json": {
              "type": "string"
            },
            "text/plain": [
              "'Bill'"
            ]
          },
          "metadata": {},
          "execution_count": 9
        }
      ]
    },
    {
      "cell_type": "code",
      "source": [
        "#Global Variables\n",
        "name = 'Steve'\n",
        "def greet():\n",
        "    globals()['name'] = 'James'\n",
        "    name='Steve'\n",
        "    print ('Hello ', name)\n",
        "greet()\n",
        "name"
      ],
      "metadata": {
        "colab": {
          "base_uri": "https://localhost:8080/",
          "height": 53
        },
        "id": "d86DMbI9vv_f",
        "outputId": "b18b02ab-d5ba-41de-ac5b-b379e06656b7"
      },
      "execution_count": null,
      "outputs": [
        {
          "output_type": "stream",
          "name": "stdout",
          "text": [
            "Hello  Steve\n"
          ]
        },
        {
          "output_type": "execute_result",
          "data": {
            "application/vnd.google.colaboratory.intrinsic+json": {
              "type": "string"
            },
            "text/plain": [
              "'James'"
            ]
          },
          "metadata": {},
          "execution_count": 10
        }
      ]
    },
    {
      "cell_type": "code",
      "source": [
        "#globals()\n",
        "num1=100\n",
        "num2=200\n",
        "name=\"TutorialsTeacher\"\n",
        "def add(x,y):\n",
        "  z=x+y\n",
        "  return z\n",
        "    \n",
        "globals()"
      ],
      "metadata": {
        "id": "-5fqfEuhwH5E"
      },
      "execution_count": null,
      "outputs": []
    },
    {
      "cell_type": "code",
      "source": [
        "#locals()\n",
        "locals()"
      ],
      "metadata": {
        "id": "bVusl9R1wZvf"
      },
      "execution_count": null,
      "outputs": []
    },
    {
      "cell_type": "code",
      "source": [
        "#Changes in Global Scope\n",
        "x=10\n",
        "def myfunction():\n",
        "    x=10\n",
        "    x=x*2\n",
        "    print ('x inside function: ', x)\n",
        "myfunction()\n",
        "print ('x in global scope: ',x)"
      ],
      "metadata": {
        "colab": {
          "base_uri": "https://localhost:8080/"
        },
        "id": "BRRKSeXSwtNL",
        "outputId": "1113baae-bb45-40ad-ffe8-72e6499acb44"
      },
      "execution_count": null,
      "outputs": [
        {
          "output_type": "stream",
          "name": "stdout",
          "text": [
            "x inside function:  20\n",
            "x in global scope:  10\n"
          ]
        }
      ]
    },
    {
      "cell_type": "code",
      "source": [
        "#Modify Global Dictionary\n",
        "x=10\n",
        "def myfunction():\n",
        "    x=globals()['x']\n",
        "    x=x*2\n",
        "    globals()['x']=x                  \n",
        "    print ('global variable x inside function: ',x)\n",
        "    return\n",
        "myfunction()\n",
        "print ('global variable x in global scope: ',x)"
      ],
      "metadata": {
        "colab": {
          "base_uri": "https://localhost:8080/"
        },
        "id": "q6ML2lQFw4Dr",
        "outputId": "772178aa-0b72-4aa4-f34b-8f0ea9bdd2d1"
      },
      "execution_count": null,
      "outputs": [
        {
          "output_type": "stream",
          "name": "stdout",
          "text": [
            "global variable x inside function:  20\n",
            "global variable x in global scope:  20\n"
          ]
        }
      ]
    },
    {
      "cell_type": "code",
      "source": [
        "x=10\n",
        "def myfunction():\n",
        "    x=globals()['x']\n",
        "    x=x*2\n",
        "    globals()['x']=x                  \n",
        "    print ('global variable x inside function: ',x)\n",
        "    return\n",
        "myfunction()\n",
        "print ('global variable x in global scope: ',x)"
      ],
      "metadata": {
        "colab": {
          "base_uri": "https://localhost:8080/"
        },
        "id": "1mHVr7ldxFUd",
        "outputId": "ac3ab28b-52aa-4334-d808-20f086bd3a36"
      },
      "execution_count": null,
      "outputs": [
        {
          "output_type": "stream",
          "name": "stdout",
          "text": [
            "global variable x inside function:  20\n",
            "global variable x in global scope:  20\n"
          ]
        }
      ]
    },
    {
      "cell_type": "code",
      "source": [
        "#global keyword\n",
        "x=10\n",
        "def myfunction():\n",
        "    global x\n",
        "    x=x*2                  \n",
        "    print ('global variable x inside function: ',x)\n",
        "    return\n",
        "myfunction()\n",
        "print ('global variable x in global scope: ',x)"
      ],
      "metadata": {
        "colab": {
          "base_uri": "https://localhost:8080/"
        },
        "id": "PkDUfCSoxT_I",
        "outputId": "f2352b73-ae28-4838-adee-cc752a5e8bfb"
      },
      "execution_count": null,
      "outputs": [
        {
          "output_type": "stream",
          "name": "stdout",
          "text": [
            "global variable x inside function:  20\n",
            "global variable x in global scope:  20\n"
          ]
        }
      ]
    },
    {
      "cell_type": "code",
      "source": [
        "#Scope in Inner Function\n",
        "def outer(): \n",
        "     x1 = 15\n",
        "     print ('in outer function:',x1)  \n",
        "     def inner(): \n",
        "            global x1\n",
        "            x1 = 30\n",
        "            print ('value inside function',x1)\n",
        "            \n",
        "            \n",
        "     inner() \n",
        "     print(\"After inner function: \", x1) \n",
        "  \n",
        "outer() \n",
        "print(\"value of x1\",x1) "
      ],
      "metadata": {
        "colab": {
          "base_uri": "https://localhost:8080/"
        },
        "id": "EZYvi8b_xalC",
        "outputId": "1645e54e-c7df-4c50-c6eb-213f1fda2c14"
      },
      "execution_count": null,
      "outputs": [
        {
          "output_type": "stream",
          "name": "stdout",
          "text": [
            "in outer function: 15\n",
            "value inside function 30\n",
            "After inner function:  15\n",
            "value of x1 30\n"
          ]
        }
      ]
    },
    {
      "cell_type": "code",
      "source": [
        "#nolocal keyword\n",
        "def outer(isnolocal):\n",
        "    x2=100\n",
        "    print ('value in outer function:',x2)\n",
        "    \n",
        "    def withnolocal():\n",
        "        nonlocal x2\n",
        "        x2=50\n",
        "    \n",
        "    def withoutnolocal():\n",
        "        x2=50\n",
        "    \n",
        "    if isnolocal==True:\n",
        "        withnolocal()\n",
        "    else:\n",
        "        withoutnolocal()\n",
        "    \n",
        "    return x2\n",
        "        \n",
        "print (outer(True))\n",
        "print (outer(False))"
      ],
      "metadata": {
        "colab": {
          "base_uri": "https://localhost:8080/"
        },
        "id": "dhRgiHhUyCYH",
        "outputId": "c9c89e08-714f-4813-f8e1-3140503b612e"
      },
      "execution_count": null,
      "outputs": [
        {
          "output_type": "stream",
          "name": "stdout",
          "text": [
            "value in outer function: 100\n",
            "50\n",
            "value in outer function: 100\n",
            "100\n"
          ]
        }
      ]
    },
    {
      "cell_type": "code",
      "source": [
        "import math\n",
        "type(math)"
      ],
      "metadata": {
        "colab": {
          "base_uri": "https://localhost:8080/"
        },
        "id": "5aC-3_cfzSVn",
        "outputId": "ecbc28e3-35c4-4a42-9db6-66e69e51ea4b"
      },
      "execution_count": null,
      "outputs": [
        {
          "output_type": "execute_result",
          "data": {
            "text/plain": [
              "module"
            ]
          },
          "metadata": {},
          "execution_count": 22
        }
      ]
    },
    {
      "cell_type": "code",
      "source": [
        "import math as cal\n",
        "cal.log(4)"
      ],
      "metadata": {
        "colab": {
          "base_uri": "https://localhost:8080/"
        },
        "id": "03W2kYSLzZ-p",
        "outputId": "8af1f13c-fb4a-4099-9e7d-c46155b621ef"
      },
      "execution_count": null,
      "outputs": [
        {
          "output_type": "execute_result",
          "data": {
            "text/plain": [
              "1.3862943611198906"
            ]
          },
          "metadata": {},
          "execution_count": 23
        }
      ]
    },
    {
      "cell_type": "code",
      "source": [
        "def sum(x,y):\n",
        "    return x + y\n",
        "def average(x, y):\n",
        "    return (x + y)/2\n",
        "def power(x, y):\n",
        "    return x**y"
      ],
      "metadata": {
        "id": "pSUT4Ynwzg-r"
      },
      "execution_count": null,
      "outputs": []
    },
    {
      "cell_type": "code",
      "source": [
        "print(sum(10,20))\n",
        "print(average(10,3))\n",
        "print(power(4,2))"
      ],
      "metadata": {
        "colab": {
          "base_uri": "https://localhost:8080/"
        },
        "id": "OMdDY_NCzr17",
        "outputId": "dca67160-d60e-475f-d6c8-8ca273c04658"
      },
      "execution_count": null,
      "outputs": [
        {
          "output_type": "stream",
          "name": "stdout",
          "text": [
            "30\n",
            "6.5\n",
            "16\n"
          ]
        }
      ]
    },
    {
      "cell_type": "code",
      "source": [
        "import sys\n",
        "sys.path"
      ],
      "metadata": {
        "colab": {
          "base_uri": "https://localhost:8080/"
        },
        "id": "5AlcOVaLzyay",
        "outputId": "059a79fc-b4f9-4966-96cb-cb1dbc784b90"
      },
      "execution_count": null,
      "outputs": [
        {
          "output_type": "execute_result",
          "data": {
            "text/plain": [
              "['',\n",
              " '/content',\n",
              " '/env/python',\n",
              " '/usr/lib/python37.zip',\n",
              " '/usr/lib/python3.7',\n",
              " '/usr/lib/python3.7/lib-dynload',\n",
              " '/usr/local/lib/python3.7/dist-packages',\n",
              " '/usr/lib/python3/dist-packages',\n",
              " '/usr/local/lib/python3.7/dist-packages/IPython/extensions',\n",
              " '/root/.ipython']"
            ]
          },
          "metadata": {},
          "execution_count": 30
        }
      ]
    },
    {
      "cell_type": "code",
      "source": [
        "string='Akheel'\n",
        "string[::-1]"
      ],
      "metadata": {
        "id": "UfXilbWT0NHm",
        "colab": {
          "base_uri": "https://localhost:8080/",
          "height": 35
        },
        "outputId": "ce5b35be-9507-4b3c-f99a-1c6f3d50e964"
      },
      "execution_count": null,
      "outputs": [
        {
          "output_type": "execute_result",
          "data": {
            "application/vnd.google.colaboratory.intrinsic+json": {
              "type": "string"
            },
            "text/plain": [
              "'leehkA'"
            ]
          },
          "metadata": {},
          "execution_count": 37
        }
      ]
    },
    {
      "cell_type": "code",
      "source": [
        ""
      ],
      "metadata": {
        "id": "Th2O05mYKwHF"
      },
      "execution_count": null,
      "outputs": []
    }
  ]
}