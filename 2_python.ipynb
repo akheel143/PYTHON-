{
  "nbformat": 4,
  "nbformat_minor": 0,
  "metadata": {
    "colab": {
      "name": "2.python",
      "provenance": [],
      "collapsed_sections": [],
      "authorship_tag": "ABX9TyPXRtp3O5WGyZgqJfJWncNM",
      "include_colab_link": true
    },
    "kernelspec": {
      "name": "python3",
      "display_name": "Python 3"
    },
    "language_info": {
      "name": "python"
    }
  },
  "cells": [
    {
      "cell_type": "markdown",
      "metadata": {
        "id": "view-in-github",
        "colab_type": "text"
      },
      "source": [
        "<a href=\"https://colab.research.google.com/github/akheel143/PYTHON-/blob/main/2_python.ipynb\" target=\"_parent\"><img src=\"https://colab.research.google.com/assets/colab-badge.svg\" alt=\"Open In Colab\"/></a>"
      ]
    },
    {
      "cell_type": "markdown",
      "source": [
        "**Operators**"
      ],
      "metadata": {
        "id": "dgLXuKM_Af4_"
      }
    },
    {
      "cell_type": "markdown",
      "source": [
        "Operators: Arithmetic, Assignment, \n",
        "Comparison, Logical, Identity, \n",
        "Membership, Bitwise"
      ],
      "metadata": {
        "id": "lIfnpDtnAkkf"
      }
    },
    {
      "cell_type": "code",
      "execution_count": null,
      "metadata": {
        "colab": {
          "base_uri": "https://localhost:8080/"
        },
        "id": "MOkzlkPXAHZm",
        "outputId": "2c429400-2f79-468d-967b-794fa6cb57b7"
      },
      "outputs": [
        {
          "output_type": "stream",
          "name": "stdout",
          "text": [
            "11\n"
          ]
        }
      ],
      "source": [
        "print(5+6)"
      ]
    },
    {
      "cell_type": "code",
      "source": [
        "import operator\n",
        "operator.add(2,3)"
      ],
      "metadata": {
        "colab": {
          "base_uri": "https://localhost:8080/"
        },
        "id": "uRIWKE3QAzip",
        "outputId": "e11063d5-97af-4821-f47a-e6cbc9b82bab"
      },
      "execution_count": null,
      "outputs": [
        {
          "output_type": "execute_result",
          "data": {
            "text/plain": [
              "5"
            ]
          },
          "metadata": {},
          "execution_count": 4
        }
      ]
    },
    {
      "cell_type": "markdown",
      "source": [
        "Arithmetic Operators"
      ],
      "metadata": {
        "id": "GJ04cBwTBEmj"
      }
    },
    {
      "cell_type": "code",
      "source": [
        "#Addition\n",
        "x=4\n",
        "y=4\n",
        "print(x+y)\n",
        "operator.add(x,y)\n",
        "\n",
        "#Subtraction\n",
        "print(x-y)\n",
        "operator.sub(x,y)\n",
        "\n",
        "#Multiplication\n",
        "print(x*y)\n",
        "operator.mul(x,y)\n",
        "\n",
        "#Exponentiation\n",
        "print(x**y)\n",
        "operator.pow(x,y)\n",
        "\n",
        "#Division\n",
        "print(x/y)\n",
        "operator.truediv(x,y)\n",
        "\n",
        "#Floor division\n",
        "print(x//y)\n",
        "operator.floordiv(x,y)\n",
        "\n",
        "#Modulus\n",
        "print(x%y)\n",
        "operator.mod(x,y)"
      ],
      "metadata": {
        "colab": {
          "base_uri": "https://localhost:8080/"
        },
        "id": "u1TEenfUAzfU",
        "outputId": "8833f6f5-d056-45fe-b478-69dbd71b04bf"
      },
      "execution_count": null,
      "outputs": [
        {
          "output_type": "stream",
          "name": "stdout",
          "text": [
            "8\n",
            "0\n",
            "16\n",
            "256\n",
            "1.0\n",
            "1\n",
            "0\n"
          ]
        },
        {
          "output_type": "execute_result",
          "data": {
            "text/plain": [
              "0"
            ]
          },
          "metadata": {},
          "execution_count": 15
        }
      ]
    },
    {
      "cell_type": "markdown",
      "source": [
        "Logical Operators"
      ],
      "metadata": {
        "id": "32gptGpMDXSD"
      }
    },
    {
      "cell_type": "code",
      "source": [
        "x = 5; y = 6\n",
        "x > 1 and y <10"
      ],
      "metadata": {
        "colab": {
          "base_uri": "https://localhost:8080/"
        },
        "id": "LvxhWRNpAzci",
        "outputId": "ba715816-e10d-46d4-d251-df00d827675a"
      },
      "execution_count": null,
      "outputs": [
        {
          "output_type": "execute_result",
          "data": {
            "text/plain": [
              "True"
            ]
          },
          "metadata": {},
          "execution_count": 16
        }
      ]
    },
    {
      "cell_type": "code",
      "source": [
        "x = 5; y = 6\n",
        "x > 6 or y <10"
      ],
      "metadata": {
        "colab": {
          "base_uri": "https://localhost:8080/"
        },
        "id": "qPFli-mBAzZ5",
        "outputId": "c59fec55-c9cb-4a77-d22a-3700823f6f7b"
      },
      "execution_count": null,
      "outputs": [
        {
          "output_type": "execute_result",
          "data": {
            "text/plain": [
              "True"
            ]
          },
          "metadata": {},
          "execution_count": 17
        }
      ]
    },
    {
      "cell_type": "code",
      "source": [
        "x = 5\n",
        "not x > 1 "
      ],
      "metadata": {
        "colab": {
          "base_uri": "https://localhost:8080/"
        },
        "id": "EIs7S8YXAzXS",
        "outputId": "d74e5d1a-56da-4c59-e462-66b536186530"
      },
      "execution_count": null,
      "outputs": [
        {
          "output_type": "execute_result",
          "data": {
            "text/plain": [
              "False"
            ]
          },
          "metadata": {},
          "execution_count": 18
        }
      ]
    },
    {
      "cell_type": "markdown",
      "source": [
        "Idendtity operators"
      ],
      "metadata": {
        "id": "AQvQTeO4DnQS"
      }
    },
    {
      "cell_type": "code",
      "source": [
        "x = 5; y = 6\n",
        "x is y "
      ],
      "metadata": {
        "colab": {
          "base_uri": "https://localhost:8080/"
        },
        "id": "jPi1YJ6CAzUa",
        "outputId": "39fbbffd-b3ae-453c-bbb4-23f12b375d25"
      },
      "execution_count": null,
      "outputs": [
        {
          "output_type": "execute_result",
          "data": {
            "text/plain": [
              "False"
            ]
          },
          "metadata": {},
          "execution_count": 19
        }
      ]
    },
    {
      "cell_type": "code",
      "source": [
        "x = 5; y = 6\n",
        "x is not y"
      ],
      "metadata": {
        "colab": {
          "base_uri": "https://localhost:8080/"
        },
        "id": "Mv5m4sEuAzO1",
        "outputId": "566f8b76-3cb7-4652-b73a-cae37a3d0172"
      },
      "execution_count": null,
      "outputs": [
        {
          "output_type": "execute_result",
          "data": {
            "text/plain": [
              "True"
            ]
          },
          "metadata": {},
          "execution_count": 20
        }
      ]
    },
    {
      "cell_type": "markdown",
      "source": [
        "Bitwise operators"
      ],
      "metadata": {
        "id": "VHNsTureEAjg"
      }
    },
    {
      "cell_type": "code",
      "source": [
        "x=5; y=10\n",
        "z=x & y \n",
        "z"
      ],
      "metadata": {
        "colab": {
          "base_uri": "https://localhost:8080/"
        },
        "id": "PCjObIzOAzL5",
        "outputId": "c33e253b-c93d-4666-bb47-37087f1faa36"
      },
      "execution_count": null,
      "outputs": [
        {
          "output_type": "execute_result",
          "data": {
            "text/plain": [
              "0"
            ]
          },
          "metadata": {},
          "execution_count": 21
        }
      ]
    },
    {
      "cell_type": "code",
      "source": [
        "x=2; y=10\n",
        "z=x | y \n",
        "z"
      ],
      "metadata": {
        "colab": {
          "base_uri": "https://localhost:8080/"
        },
        "id": "OpjN8bulAzJZ",
        "outputId": "7cf14b9d-6f5a-4b05-852e-69eda3555575"
      },
      "execution_count": null,
      "outputs": [
        {
          "output_type": "execute_result",
          "data": {
            "text/plain": [
              "10"
            ]
          },
          "metadata": {},
          "execution_count": 26
        }
      ]
    },
    {
      "cell_type": "code",
      "source": [
        "x=5; y=10\n",
        "z=x ^ y \n",
        "z"
      ],
      "metadata": {
        "colab": {
          "base_uri": "https://localhost:8080/"
        },
        "id": "Hinsfe30AzGz",
        "outputId": "b7b5eac5-cf4c-41a5-90a9-a49f40a400d7"
      },
      "execution_count": null,
      "outputs": [
        {
          "output_type": "execute_result",
          "data": {
            "text/plain": [
              "15"
            ]
          },
          "metadata": {},
          "execution_count": 27
        }
      ]
    },
    {
      "cell_type": "code",
      "source": [
        "x=5\n",
        "~x"
      ],
      "metadata": {
        "colab": {
          "base_uri": "https://localhost:8080/"
        },
        "id": "0u742yOGAzEa",
        "outputId": "d71ec48f-8ba4-4fe1-cd97-7b7dcd772293"
      },
      "execution_count": null,
      "outputs": [
        {
          "output_type": "execute_result",
          "data": {
            "text/plain": [
              "-6"
            ]
          },
          "metadata": {},
          "execution_count": 28
        }
      ]
    },
    {
      "cell_type": "code",
      "source": [
        "x=5\n",
        "print(x<<2)\n",
        "x=5\n",
        "x>>2"
      ],
      "metadata": {
        "colab": {
          "base_uri": "https://localhost:8080/"
        },
        "id": "V8xo_NGqAzBp",
        "outputId": "a2434ffe-ffed-40a8-d59d-d153b33a8d9d"
      },
      "execution_count": null,
      "outputs": [
        {
          "output_type": "stream",
          "name": "stdout",
          "text": [
            "20\n"
          ]
        },
        {
          "output_type": "execute_result",
          "data": {
            "text/plain": [
              "1"
            ]
          },
          "metadata": {},
          "execution_count": 30
        }
      ]
    }
  ]
}