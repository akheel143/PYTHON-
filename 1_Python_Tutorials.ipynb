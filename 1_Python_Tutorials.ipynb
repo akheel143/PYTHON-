{
  "nbformat": 4,
  "nbformat_minor": 0,
  "metadata": {
    "colab": {
      "name": "1.Python Tutorials",
      "provenance": [],
      "collapsed_sections": [],
      "authorship_tag": "ABX9TyOc7eQQzLG1aJsG06UXQ7Uu",
      "include_colab_link": true
    },
    "kernelspec": {
      "name": "python3",
      "display_name": "Python 3"
    },
    "language_info": {
      "name": "python"
    }
  },
  "cells": [
    {
      "cell_type": "markdown",
      "metadata": {
        "id": "view-in-github",
        "colab_type": "text"
      },
      "source": [
        "<a href=\"https://colab.research.google.com/github/akheel143/PYTHON-/blob/main/1_Python_Tutorials.ipynb\" target=\"_parent\"><img src=\"https://colab.research.google.com/assets/colab-badge.svg\" alt=\"Open In Colab\"/></a>"
      ]
    },
    {
      "cell_type": "code",
      "execution_count": 1,
      "metadata": {
        "colab": {
          "base_uri": "https://localhost:8080/"
        },
        "id": "i0sX8LZb9q9m",
        "outputId": "8140f161-91e3-4952-d395-91ec8e44b665"
      },
      "outputs": [
        {
          "output_type": "stream",
          "name": "stdout",
          "text": [
            "Hello world\n"
          ]
        }
      ],
      "source": [
        "print('Hello world')"
      ]
    },
    {
      "cell_type": "code",
      "source": [
        "print('hello \"world\"')"
      ],
      "metadata": {
        "colab": {
          "base_uri": "https://localhost:8080/"
        },
        "id": "igKjlguF-PFh",
        "outputId": "c3b41b81-c2c6-4473-d0a7-99a7cf9ca6c6"
      },
      "execution_count": 2,
      "outputs": [
        {
          "output_type": "stream",
          "name": "stdout",
          "text": [
            "hello \"world\"\n"
          ]
        }
      ]
    },
    {
      "cell_type": "markdown",
      "source": [
        "**Basic operations**"
      ],
      "metadata": {
        "id": "Xk6NXOxaEUKw"
      }
    },
    {
      "cell_type": "code",
      "source": [
        "print(2 + 2)#Add\n",
        "\n",
        "print(2 - 2)#Sub\n",
        "\n",
        "print(2 * 2)#Mutiply\n",
        "\n",
        "print(50 - 5*6)\n",
        "\n",
        "print(50 - 5*6 / 4)\n",
        "\n",
        "8 / 5  # division always returns a floating point number"
      ],
      "metadata": {
        "colab": {
          "base_uri": "https://localhost:8080/"
        },
        "id": "crrEEpu3-U87",
        "outputId": "8e0b594d-3606-4924-9df2-455c55f0f426"
      },
      "execution_count": 3,
      "outputs": [
        {
          "output_type": "stream",
          "name": "stdout",
          "text": [
            "4\n",
            "0\n",
            "4\n",
            "20\n",
            "42.5\n"
          ]
        },
        {
          "output_type": "execute_result",
          "data": {
            "text/plain": [
              "1.6"
            ]
          },
          "metadata": {},
          "execution_count": 3
        }
      ]
    },
    {
      "cell_type": "code",
      "source": [
        "print(17//3) # floor division discards the fractional part\n",
        "print(17%3)  # the % operator returns the remainder of the division"
      ],
      "metadata": {
        "colab": {
          "base_uri": "https://localhost:8080/"
        },
        "id": "ktuyxVY--f-r",
        "outputId": "50e2d6e4-d9fa-4cbb-d023-f8195a06a4a8"
      },
      "execution_count": 4,
      "outputs": [
        {
          "output_type": "stream",
          "name": "stdout",
          "text": [
            "5\n",
            "2\n"
          ]
        }
      ]
    },
    {
      "cell_type": "markdown",
      "source": [
        "**Variables**"
      ],
      "metadata": {
        "id": "ThAe3ea5-nE4"
      }
    },
    {
      "cell_type": "code",
      "source": [
        "x=4\n",
        "print(x)\n",
        "name='Akheel'\n",
        "print(name)\n",
        "print(id(x),id(name))#The id() function returns the id of the specified object where it is stored\n",
        "#Above x,name are two single variables"
      ],
      "metadata": {
        "colab": {
          "base_uri": "https://localhost:8080/"
        },
        "id": "bbIC9OXf-mgZ",
        "outputId": "08ecb546-1103-4110-a3a6-0a9dbd027b89"
      },
      "execution_count": 20,
      "outputs": [
        {
          "output_type": "stream",
          "name": "stdout",
          "text": [
            "4\n",
            "Akheel\n",
            "94876122040928 140537852248304\n"
          ]
        }
      ]
    },
    {
      "cell_type": "code",
      "source": [
        "x=1,2,3,4\n",
        "print(x)\n",
        "y=2,3,6,7\n",
        "print(y)\n",
        "#Above two variables are multi-variables "
      ],
      "metadata": {
        "colab": {
          "base_uri": "https://localhost:8080/"
        },
        "id": "VDrb6A6V-wY1",
        "outputId": "4956a96c-8b5b-4c08-8e8c-2b6ae9911571"
      },
      "execution_count": 10,
      "outputs": [
        {
          "output_type": "stream",
          "name": "stdout",
          "text": [
            "(1, 2, 3, 4)\n",
            "(2, 3, 6, 7)\n"
          ]
        }
      ]
    },
    {
      "cell_type": "code",
      "source": [
        "print(x+y)#joining two multi-variables\n",
        "print(sum(x),sum(y))"
      ],
      "metadata": {
        "colab": {
          "base_uri": "https://localhost:8080/"
        },
        "id": "k6m6eK7y-_M5",
        "outputId": "0f36f07d-50b6-4275-df35-63d4e8e7ee4d"
      },
      "execution_count": 11,
      "outputs": [
        {
          "output_type": "stream",
          "name": "stdout",
          "text": [
            "(1, 2, 3, 4, 2, 3, 6, 7)\n",
            "10 18\n"
          ]
        }
      ]
    },
    {
      "cell_type": "code",
      "source": [
        "k='Akheel',2,4.1\n",
        "print(k)\n",
        "print(type(k))\n",
        "print(x+k)#join x and k"
      ],
      "metadata": {
        "colab": {
          "base_uri": "https://localhost:8080/"
        },
        "id": "eDHRAPps_QMm",
        "outputId": "169fc0a7-13d4-40a5-8df4-a7ccb7af37f6"
      },
      "execution_count": 15,
      "outputs": [
        {
          "output_type": "stream",
          "name": "stdout",
          "text": [
            "('Akheel', 2, 4.1)\n",
            "<class 'tuple'>\n",
            "(1, 2, 3, 4, 'Akheel', 2, 4.1)\n"
          ]
        }
      ]
    },
    {
      "cell_type": "code",
      "source": [
        "x, y, z = 10, 'Hello', True\n",
        "print(type(x))\n",
        "print(type(y))\n",
        "print(type(z))"
      ],
      "metadata": {
        "colab": {
          "base_uri": "https://localhost:8080/"
        },
        "id": "SNSIiCyw_0rt",
        "outputId": "ca9cb3bf-7f92-4bdf-ca50-4c4a034fd625"
      },
      "execution_count": 16,
      "outputs": [
        {
          "output_type": "stream",
          "name": "stdout",
          "text": [
            "<class 'int'>\n",
            "<class 'str'>\n",
            "<class 'bool'>\n"
          ]
        }
      ]
    },
    {
      "cell_type": "code",
      "source": [
        " #Assign a value to each individual variable separated by a comma will throw a syntax error, as shown below.\n",
        " x = 10, y = 'Hello', z = True\n",
        " print(x,y,z)"
      ],
      "metadata": {
        "colab": {
          "base_uri": "https://localhost:8080/",
          "height": 130
        },
        "id": "RI_-j_fIBq2e",
        "outputId": "29aa26e5-4a5d-4f85-e23a-69dd8f68dc5f"
      },
      "execution_count": 17,
      "outputs": [
        {
          "output_type": "error",
          "ename": "SyntaxError",
          "evalue": "ignored",
          "traceback": [
            "\u001b[0;36m  File \u001b[0;32m\"<ipython-input-17-c84f18601a52>\"\u001b[0;36m, line \u001b[0;32m1\u001b[0m\n\u001b[0;31m    x = 10, y = 'Hello', z = True\u001b[0m\n\u001b[0m       ^\u001b[0m\n\u001b[0;31mSyntaxError\u001b[0m\u001b[0;31m:\u001b[0m can't assign to literal\n"
          ]
        }
      ]
    },
    {
      "cell_type": "code",
      "source": [
        " x = 10\n",
        " y = 'Hello'\n",
        " z = True\n",
        " print(x,y,z)"
      ],
      "metadata": {
        "colab": {
          "base_uri": "https://localhost:8080/"
        },
        "id": "U_bON91SCB4U",
        "outputId": "c495eb31-e5dd-445f-ae35-572a8f03dd2a"
      },
      "execution_count": 18,
      "outputs": [
        {
          "output_type": "stream",
          "name": "stdout",
          "text": [
            "10 Hello True\n"
          ]
        }
      ]
    },
    {
      "cell_type": "markdown",
      "source": [
        "**Data Types**"
      ],
      "metadata": {
        "id": "54LFsr2hDUuj"
      }
    },
    {
      "cell_type": "markdown",
      "source": [
        "Scaler Type\n",
        "*   int: Positive or negative whole numbers (without a fractional part) e.g. -10, 10, 456, 4654654.\n",
        "*   float: Any real number with a floating-point representation in which a fractional component is denoted by a decimal symbol or scientific notation e.g. 1.23, 3.4556789e2.\n",
        "*   complex: A number with a real and imaginary component represented as x + 2y.\n",
        "*   bool: Data with one of two built-in values True or False. Notice that 'T' and 'F' are capital. true and false are not valid booleans and Python will throw an error for them."
      ],
      "metadata": {
        "id": "1AX5uP92C1jU"
      }
    },
    {
      "cell_type": "markdown",
      "source": [
        "Sequence Type:\n",
        "\n",
        "A sequence is an ordered collection of similar or different data types. Python has the following built-in sequence data types:\n",
        "\n",
        "* String: A string value is a collection of one or more characters put in single, double or triple quotes.\n",
        "* List: A list object is an ordered collection of one or more data items, not necessarily of the same type, put in square brackets.\n",
        "* Tuple: A Tuple object is an ordered collection of one or more data items, not necessarily of the same type, put in parentheses."
      ],
      "metadata": {
        "id": "KVIZMTCKD1h5"
      }
    },
    {
      "cell_type": "markdown",
      "source": [
        "Mapping Type\n",
        "\n",
        "Dictionary: A dictionary Dict() object is an unordered collection of data in a key:value pair form. A collection of such pairs is enclosed in curly brackets. For example: {1:\"Steve\", 2:\"Bill\", 3:\"Ram\", 4: \"Farha\"}"
      ],
      "metadata": {
        "id": "UrV3BCqtE1pq"
      }
    },
    {
      "cell_type": "markdown",
      "source": [
        "Set Types\n",
        "\n",
        "set: Set is mutable, unordered collection of distinct hashable objects. The set is a Python implementation of the set in Mathematics. A set object has suitable methods to perform mathematical set operations like union, intersection, difference, etc.\n",
        "\n",
        "frozenset: Frozenset is immutable version of set whose elements are added from other iterables."
      ],
      "metadata": {
        "id": "P7A5e0h0E-rp"
      }
    },
    {
      "cell_type": "markdown",
      "source": [
        "Mutable and Immutable Types\n",
        "\n",
        "* Data objects of the above types are stored in a computer's memory for processing. Some of these values can be modified during processing, but contents of others can't be altered once they are created in the memory.\n",
        "\n",
        "\n",
        "* Numbers, strings, and Tuples are immutable, which means their contents can't be altered after creation.\n",
        "\n",
        "\n",
        "* On the other hand, items in a List or Dictionary object can be modified. It is possible to add, delete, insert, and rearrange items in a list or dictionary. Hence, they are mutable objects."
      ],
      "metadata": {
        "id": "kTD_6vgNFGrZ"
      }
    },
    {
      "cell_type": "markdown",
      "source": [
        "Number Types: int, float, complex"
      ],
      "metadata": {
        "id": "ZAIJFGr5FrMg"
      }
    },
    {
      "cell_type": "code",
      "source": [
        "x=1 #int\n",
        "y=2.2 #float\n",
        "z=5+2j\n",
        "print(x,y,z)\n",
        "#convertion\n",
        "x=int(y)\n",
        "y=float(x)\n",
        "print(x,y)"
      ],
      "metadata": {
        "colab": {
          "base_uri": "https://localhost:8080/"
        },
        "id": "CLs_ANWpF9Ti",
        "outputId": "8b1a4bd2-cc91-40d4-d1b7-beac4f5d8f7d"
      },
      "execution_count": 26,
      "outputs": [
        {
          "output_type": "stream",
          "name": "stdout",
          "text": [
            "1 2.2 (5+2j)\n",
            "2 2.0\n"
          ]
        }
      ]
    },
    {
      "cell_type": "code",
      "source": [
        "#Integers can be binary, octal, and hexadecimal values.\n",
        "print(0b11011000) # binary\n",
        "print(0o12) # octal\n",
        "print(0x12) # hexadecimal"
      ],
      "metadata": {
        "colab": {
          "base_uri": "https://localhost:8080/"
        },
        "id": "OO_TroruCTTi",
        "outputId": "d4d0ff00-6bc1-4e1c-cf92-31cf86f45ac5"
      },
      "execution_count": 21,
      "outputs": [
        {
          "output_type": "stream",
          "name": "stdout",
          "text": [
            "216\n",
            "10\n",
            "18\n"
          ]
        }
      ]
    },
    {
      "cell_type": "markdown",
      "source": [
        "in-built functions"
      ],
      "metadata": {
        "id": "f8GL2prZG83q"
      }
    },
    {
      "cell_type": "code",
      "source": [
        "print(pow(2,3))#Returns the power of the specified numbers.\n",
        "print(abs(-10))#Returns the absolute value of a number without considering its sign.\n",
        "print(round(3.44,2))#Returns the rounded number."
      ],
      "metadata": {
        "colab": {
          "base_uri": "https://localhost:8080/"
        },
        "id": "fgTOimfWCVXa",
        "outputId": "085dc5df-c816-4784-8280-a18c3470cec0"
      },
      "execution_count": 27,
      "outputs": [
        {
          "output_type": "execute_result",
          "data": {
            "text/plain": [
              "8"
            ]
          },
          "metadata": {},
          "execution_count": 27
        }
      ]
    },
    {
      "cell_type": "markdown",
      "source": [
        "**String**"
      ],
      "metadata": {
        "id": "Q0Wlhkw9Iruy"
      }
    },
    {
      "cell_type": "code",
      "source": [
        "name='Am akheel'\n",
        "print(name)#Single line string\n",
        "print(type(name))"
      ],
      "metadata": {
        "colab": {
          "base_uri": "https://localhost:8080/"
        },
        "id": "711CnZhqHDv9",
        "outputId": "2f448dba-38e5-4758-cec2-031f62c4119c"
      },
      "execution_count": 40,
      "outputs": [
        {
          "output_type": "stream",
          "name": "stdout",
          "text": [
            "Am akheel\n",
            "<class 'str'>\n"
          ]
        }
      ]
    },
    {
      "cell_type": "code",
      "source": [
        "ABOUT='''Am Mohammad Akheel\n",
        "Am from telengana'''\n",
        "print(ABOUT)#For multi lines"
      ],
      "metadata": {
        "colab": {
          "base_uri": "https://localhost:8080/"
        },
        "id": "xTNfAJm1I4ju",
        "outputId": "4926f71a-789f-4a74-9c16-ceae6588176b"
      },
      "execution_count": 41,
      "outputs": [
        {
          "output_type": "stream",
          "name": "stdout",
          "text": [
            "Am Mohammad Akheel\n",
            "Am from telengana\n"
          ]
        }
      ]
    },
    {
      "cell_type": "code",
      "source": [
        "len(name)#length of string"
      ],
      "metadata": {
        "colab": {
          "base_uri": "https://localhost:8080/"
        },
        "id": "JomZ9BlzI4gR",
        "outputId": "1723504d-ecb9-485f-c711-32a6bd6b329d"
      },
      "execution_count": 42,
      "outputs": [
        {
          "output_type": "execute_result",
          "data": {
            "text/plain": [
              "9"
            ]
          },
          "metadata": {},
          "execution_count": 42
        }
      ]
    },
    {
      "cell_type": "code",
      "source": [
        "#indexing string\n",
        "print(name[0])\n",
        "print(name[1])\n",
        "print(name[2])\n",
        "print(name[3])\n",
        "print(name[4])\n",
        "print(name[5])"
      ],
      "metadata": {
        "colab": {
          "base_uri": "https://localhost:8080/"
        },
        "id": "tq82Zj6PI4dt",
        "outputId": "0c63fcaa-96fc-48e4-94f9-227eba69d7aa"
      },
      "execution_count": 43,
      "outputs": [
        {
          "output_type": "stream",
          "name": "stdout",
          "text": [
            "A\n",
            "m\n",
            " \n",
            "a\n",
            "k\n",
            "h\n"
          ]
        }
      ]
    },
    {
      "cell_type": "code",
      "source": [
        "#slicing string\n",
        "print(name[:])\n",
        "print(name[0:2])\n",
        "print(name[2:5])\n",
        "print(name[-5:-2])\n",
        "print(name[:4])"
      ],
      "metadata": {
        "colab": {
          "base_uri": "https://localhost:8080/"
        },
        "id": "4n7puiswI4bU",
        "outputId": "6277679c-fbe9-4659-dc0b-85cc4a3c6c64"
      },
      "execution_count": 44,
      "outputs": [
        {
          "output_type": "stream",
          "name": "stdout",
          "text": [
            "Am akheel\n",
            "Am\n",
            " ak\n",
            "khe\n",
            "Am a\n"
          ]
        }
      ]
    },
    {
      "cell_type": "code",
      "source": [
        "x=100\n",
        "k=str(x)\n",
        "print(x,k)"
      ],
      "metadata": {
        "colab": {
          "base_uri": "https://localhost:8080/"
        },
        "id": "xSqYYGkUI4Yy",
        "outputId": "d28effa2-e96a-4efe-db86-86a07a0da222"
      },
      "execution_count": 45,
      "outputs": [
        {
          "output_type": "stream",
          "name": "stdout",
          "text": [
            "100 100\n"
          ]
        }
      ]
    },
    {
      "cell_type": "code",
      "source": [
        "#escape sequences\n",
        "str1='Welcome to \\'Python Tutorial\\' on TutorialsTeacher'\n",
        "print(str1)\n",
        "\n",
        "str2=\"Welcome to \\\"Python Tutorial\\\" on TutorialsTeacher\"\n",
        "print(str2)"
      ],
      "metadata": {
        "colab": {
          "base_uri": "https://localhost:8080/"
        },
        "id": "wVnD0yQVI4KD",
        "outputId": "02e3594a-e1e1-4598-f403-4211b2fac7a8"
      },
      "execution_count": 46,
      "outputs": [
        {
          "output_type": "stream",
          "name": "stdout",
          "text": [
            "Welcome to 'Python Tutorial' on TutorialsTeacher\n",
            "Welcome to \"Python Tutorial\" on TutorialsTeacher\n"
          ]
        }
      ]
    },
    {
      "cell_type": "code",
      "source": [
        "#Use r or R to ignore escape sequences in a string.\n",
        "str1=r'Welcome to \\'Python Tutorial\\' on TutorialsTeacher'\n",
        "print(str1)"
      ],
      "metadata": {
        "colab": {
          "base_uri": "https://localhost:8080/"
        },
        "id": "WOXdvVfIKnz_",
        "outputId": "d842146f-1e6b-4fcc-f9c1-848b7d59223b"
      },
      "execution_count": 47,
      "outputs": [
        {
          "output_type": "stream",
          "name": "stdout",
          "text": [
            "Welcome to \\'Python Tutorial\\' on TutorialsTeacher\n"
          ]
        }
      ]
    },
    {
      "cell_type": "code",
      "source": [
        "x='string'\n",
        "y='ping'\n",
        "print(x+y)#adding two strings\n",
        "print(x*4)#Concatenates multiple copies of the same string"
      ],
      "metadata": {
        "colab": {
          "base_uri": "https://localhost:8080/"
        },
        "id": "A7timy4pK8ZD",
        "outputId": "b47321d8-6756-4f74-9d11-535333cc7ec2"
      },
      "execution_count": 48,
      "outputs": [
        {
          "output_type": "stream",
          "name": "stdout",
          "text": [
            "stringping\n",
            "stringstringstringstring\n"
          ]
        }
      ]
    },
    {
      "cell_type": "code",
      "source": [
        "#in and not in\n",
        "name='Akheel'\n",
        "print('A' in name)\n",
        "print('A' not in name)"
      ],
      "metadata": {
        "colab": {
          "base_uri": "https://localhost:8080/"
        },
        "id": "U7fUjOCcLSdd",
        "outputId": "bb9c03c9-0257-41cb-9bab-200f1973a03b"
      },
      "execution_count": 50,
      "outputs": [
        {
          "output_type": "stream",
          "name": "stdout",
          "text": [
            "True\n",
            "False\n"
          ]
        }
      ]
    },
    {
      "cell_type": "code",
      "source": [
        "#capitalize() method returns the copy of the string with its first character capitalized\n",
        "#and the rest of the letters lowercased.\n",
        "name='akheel'\n",
        "print(name.capitalize())\n",
        "address='#1 Harbor Side'.capitalize()\n",
        "print(address)"
      ],
      "metadata": {
        "colab": {
          "base_uri": "https://localhost:8080/"
        },
        "id": "jYyQoTHzLh19",
        "outputId": "4b08dc21-338b-4d32-d921-a48453ed685d"
      },
      "execution_count": 53,
      "outputs": [
        {
          "output_type": "stream",
          "name": "stdout",
          "text": [
            "Akheel\n",
            "#1 harbor side\n"
          ]
        }
      ]
    },
    {
      "cell_type": "code",
      "source": [
        "#The casefold() method returns a string where all the characters are in lower case. \n",
        "#It is similar to the lower() method, but the casefold() method converts more characters into lower case.\n",
        "mystr = 'TUTORIALS Teacher'\n",
        "print(mystr.casefold())\n",
        "print('HELLO WORLD'.casefold())\n",
        "print(mystr.lower())\n",
        "mystr = '1# HarBOR Side'\n",
        "print(mystr.casefold())"
      ],
      "metadata": {
        "colab": {
          "base_uri": "https://localhost:8080/"
        },
        "id": "gTh_tmmSMD8U",
        "outputId": "1432052c-0112-427e-e25f-80f27ff7d5f5"
      },
      "execution_count": 57,
      "outputs": [
        {
          "output_type": "stream",
          "name": "stdout",
          "text": [
            "tutorials teacher\n",
            "hello world\n",
            "tutorials teacher\n",
            "1# harbor side\n"
          ]
        }
      ]
    },
    {
      "cell_type": "markdown",
      "source": [
        "The count() method searches (case-sensitive) the specified substring in the given string and returns an integer indicating occurrences of the substring. By default, the counting begins from 0 index till the end of the string."
      ],
      "metadata": {
        "id": "aMuiwJrDOQ2c"
      }
    },
    {
      "cell_type": "code",
      "source": [
        "mystr = 'TutorialsTeacher is a free online Tutorials website,tutorials need to be practice'\n",
        "\n",
        "total = mystr.count('Tutorials')\n",
        "print('Number of occurrences of \"Tutorials\":', total)\n",
        "\n",
        "total = mystr.count('tutorials')\n",
        "print('Number of occurrences of \"tutorials\":', total)\n",
        "print(mystr.count('T'))"
      ],
      "metadata": {
        "colab": {
          "base_uri": "https://localhost:8080/"
        },
        "id": "0Kh0hGWqMsFE",
        "outputId": "a532f5a8-bda1-405d-f7b5-f9ba4cf740c5"
      },
      "execution_count": 63,
      "outputs": [
        {
          "output_type": "stream",
          "name": "stdout",
          "text": [
            "Number of occurrences of \"Tutorials\": 2\n",
            "Number of occurrences of \"tutorials\": 1\n",
            "3\n"
          ]
        }
      ]
    },
    {
      "cell_type": "code",
      "source": [
        "mystr = 'TutorialsTeacher is a free online Tutorials website'\n",
        "substr = 'Tutorials'\n",
        "\n",
        "total = mystr.count(substr, 0, 15) # start 0, end 15\n",
        "print('Number of occurrences between 0 to 15 index:',total)\n",
        "\n",
        "total = mystr.count(substr, 15, 25) # start 15, end 25\n",
        "print('Number of occurrences between 15 to 25 index:',total)\n",
        "\n",
        "total = mystr.count(substr, 25) # start 25\n",
        "print('Number of occurrences from 25th index till end:',total)"
      ],
      "metadata": {
        "colab": {
          "base_uri": "https://localhost:8080/"
        },
        "id": "4hboVZ-uOanY",
        "outputId": "aef4c4e3-9663-4fc4-d3ab-53d3164e7cbb"
      },
      "execution_count": 64,
      "outputs": [
        {
          "output_type": "stream",
          "name": "stdout",
          "text": [
            "Number of occurrences between 0 to 15 index: 1\n",
            "Number of occurrences between 15 to 25 index: 0\n",
            "Number of occurrences from 25th index till end: 1\n"
          ]
        }
      ]
    },
    {
      "cell_type": "markdown",
      "source": [
        "The endswith() function returns True if a string ends with the specified suffix (case-sensitive), otherwise returns False. A tuple of string elements can also be passed to check for multiple options. If a string ends with any element of the tuple then the endswith() function returns True."
      ],
      "metadata": {
        "id": "9TsATp3iPOsx"
      }
    },
    {
      "cell_type": "code",
      "source": [
        "mystr = 'Hello World'\n",
        "print(mystr.endswith('h', 0, 1)) # is 'H' endswith 'h'? False\n",
        "print(mystr.endswith('H', 0, 1)) # is 'H' endswith 'H'? True\n",
        "print(mystr.endswith('e', 0, 2)) # is 'He' endswith 'e'? True\n",
        "print(mystr.endswith('o', 0, 5)) # is 'Hello' endswith 'o'? True"
      ],
      "metadata": {
        "colab": {
          "base_uri": "https://localhost:8080/"
        },
        "id": "5ZuDTjZPO7pX",
        "outputId": "15956368-4b72-4e1b-dfbb-a404fa015e95"
      },
      "execution_count": 65,
      "outputs": [
        {
          "output_type": "stream",
          "name": "stdout",
          "text": [
            "False\n",
            "True\n",
            "True\n",
            "True\n"
          ]
        }
      ]
    },
    {
      "cell_type": "code",
      "source": [
        "#find() function finds the idex of string\n",
        "greet='Hello World'\n",
        "print(\"Index of 'H': \", greet.find('H'))\n",
        "print(greet.find('h')) #returnd if str not found\n",
        "print(greet.find('Hello'))"
      ],
      "metadata": {
        "colab": {
          "base_uri": "https://localhost:8080/"
        },
        "id": "6ej0hrfoPT-P",
        "outputId": "e904ef87-0e24-4ba0-c0b3-07f21d073f5f"
      },
      "execution_count": 67,
      "outputs": [
        {
          "output_type": "stream",
          "name": "stdout",
          "text": [
            "Index of 'H':  0\n",
            "-1\n",
            "0\n"
          ]
        }
      ]
    },
    {
      "cell_type": "code",
      "source": [
        "#index() function\n",
        "print(greet.index('H')) \n",
        "print(greet.index('w')) #Throw error no index found\n",
        "#index is case sensitive and default index from '0'"
      ],
      "metadata": {
        "colab": {
          "base_uri": "https://localhost:8080/",
          "height": 217
        },
        "id": "SqCwXBVIQBM-",
        "outputId": "b935bb1b-a0fc-4cfd-82da-87f9e418f35e"
      },
      "execution_count": 70,
      "outputs": [
        {
          "output_type": "stream",
          "name": "stdout",
          "text": [
            "0\n"
          ]
        },
        {
          "output_type": "error",
          "ename": "ValueError",
          "evalue": "ignored",
          "traceback": [
            "\u001b[0;31m---------------------------------------------------------------------------\u001b[0m",
            "\u001b[0;31mValueError\u001b[0m                                Traceback (most recent call last)",
            "\u001b[0;32m<ipython-input-70-8575482cb4ee>\u001b[0m in \u001b[0;36m<module>\u001b[0;34m()\u001b[0m\n\u001b[1;32m      1\u001b[0m \u001b[0;31m#index() function\u001b[0m\u001b[0;34m\u001b[0m\u001b[0;34m\u001b[0m\u001b[0;34m\u001b[0m\u001b[0m\n\u001b[1;32m      2\u001b[0m \u001b[0mprint\u001b[0m\u001b[0;34m(\u001b[0m\u001b[0mgreet\u001b[0m\u001b[0;34m.\u001b[0m\u001b[0mindex\u001b[0m\u001b[0;34m(\u001b[0m\u001b[0;34m'H'\u001b[0m\u001b[0;34m)\u001b[0m\u001b[0;34m)\u001b[0m\u001b[0;34m\u001b[0m\u001b[0;34m\u001b[0m\u001b[0m\n\u001b[0;32m----> 3\u001b[0;31m \u001b[0mprint\u001b[0m\u001b[0;34m(\u001b[0m\u001b[0mgreet\u001b[0m\u001b[0;34m.\u001b[0m\u001b[0mindex\u001b[0m\u001b[0;34m(\u001b[0m\u001b[0;34m'w'\u001b[0m\u001b[0;34m)\u001b[0m\u001b[0;34m)\u001b[0m\u001b[0;34m\u001b[0m\u001b[0;34m\u001b[0m\u001b[0m\n\u001b[0m",
            "\u001b[0;31mValueError\u001b[0m: substring not found"
          ]
        }
      ]
    },
    {
      "cell_type": "code",
      "source": [
        "#isalnum return true if string has numbers or alphabets\n",
        "x='1234'\n",
        "print(x.isalnum())\n",
        "y='A'\n",
        "print(y.isalnum())"
      ],
      "metadata": {
        "colab": {
          "base_uri": "https://localhost:8080/"
        },
        "id": "_qRvmuIBRxXe",
        "outputId": "f16227b7-1393-4f02-bd63-e85d4fe46a22"
      },
      "execution_count": 75,
      "outputs": [
        {
          "output_type": "stream",
          "name": "stdout",
          "text": [
            "True\n",
            "True\n"
          ]
        }
      ]
    },
    {
      "cell_type": "code",
      "source": [
        "#The isalpha() method returns True if all characters in a string are alphabetic (both lowercase and uppercase) and\n",
        "# returns False if at least one character is not an alphabet\n",
        "mystr = 'HelloWorld'\n",
        "print(mystr.isalpha()) # returns True\n",
        "mystr = 'Hello World'\n",
        "print(mystr.isalpha()) # returns False\n"
      ],
      "metadata": {
        "colab": {
          "base_uri": "https://localhost:8080/"
        },
        "id": "V2KfiAGEQsVV",
        "outputId": "e35f4779-7c19-4908-861d-d08339a0a4a9"
      },
      "execution_count": 76,
      "outputs": [
        {
          "output_type": "stream",
          "name": "stdout",
          "text": [
            "True\n",
            "False\n"
          ]
        }
      ]
    },
    {
      "cell_type": "code",
      "source": [
        "#isdecimal() function return true if any decimal number present\n",
        "numstr = '12345'\n",
        "print(numstr.isdecimal()) # returns True\n",
        "\n",
        "numstr = '10.50'\n",
        "print(numstr.isdecimal()) # returns False\n",
        "\n",
        "alnumstr = '123A'\n",
        "print(alnumstr.isdecimal()) # returns False"
      ],
      "metadata": {
        "colab": {
          "base_uri": "https://localhost:8080/"
        },
        "id": "KqVvWLRGSj1f",
        "outputId": "096d41c6-316e-4ced-de94-690b51359b25"
      },
      "execution_count": 77,
      "outputs": [
        {
          "output_type": "stream",
          "name": "stdout",
          "text": [
            "True\n",
            "False\n",
            "False\n",
            "False\n"
          ]
        }
      ]
    },
    {
      "cell_type": "code",
      "source": [
        "#The isdigit() method returns True if all characters in a string are digits\n",
        "mystr = '12345'\n",
        "print(mystr.isdigit())\n",
        "\n",
        "mystr = '10.5'\n",
        "print(mystr.isdigit())\n",
        "\n",
        "mystr = 'python'\n",
        "print(mystr.isdigit())"
      ],
      "metadata": {
        "colab": {
          "base_uri": "https://localhost:8080/"
        },
        "id": "kQ5PEt_DS5-g",
        "outputId": "e08cb812-b765-46a8-fa0d-e321dbc30ea2"
      },
      "execution_count": 78,
      "outputs": [
        {
          "output_type": "stream",
          "name": "stdout",
          "text": [
            "True\n",
            "False\n",
            "False\n"
          ]
        }
      ]
    },
    {
      "cell_type": "code",
      "source": [
        "#A valid identifier string can only contain uppercase or lowercase alphabats A to Z, \n",
        "#underscore, digits 0 to 9, and must start with an alphabats or an underscore.\n",
        "lang='Python3'\n",
        "print(lang.isidentifier())\n",
        "greet='Hello World' \n",
        "print(greet.isidentifier()) # includes space so returns False"
      ],
      "metadata": {
        "colab": {
          "base_uri": "https://localhost:8080/"
        },
        "id": "LQAtuVCRTGHi",
        "outputId": "13678e1a-c3d8-49a1-f0f0-557f44400515"
      },
      "execution_count": 80,
      "outputs": [
        {
          "output_type": "stream",
          "name": "stdout",
          "text": [
            "True\n",
            "False\n"
          ]
        }
      ]
    },
    {
      "cell_type": "code",
      "source": [
        "#islower() function true if atleast one lowercase present\n",
        "mystr='#1?><~()+=*-+./\\[] this is lower'\n",
        "print(mystr.islower())\n",
        "mystr='#1?><~()+=*-+./\\[] THIS IS UPPER'\n",
        "print(mystr.islower())"
      ],
      "metadata": {
        "colab": {
          "base_uri": "https://localhost:8080/"
        },
        "id": "UghzRdWYTGEs",
        "outputId": "635fe75e-fbb3-4cda-fbd2-6eb21c31150c"
      },
      "execution_count": 81,
      "outputs": [
        {
          "output_type": "stream",
          "name": "stdout",
          "text": [
            "True\n",
            "False\n"
          ]
        }
      ]
    },
    {
      "cell_type": "code",
      "source": [
        "#isnumeric function true if all str is numbered\n",
        "name='Akheel'\n",
        "print(name.isnumeric())\n",
        "num='123'\n",
        "print(num.isnumeric())\n",
        "nm='ak2'\n",
        "print(nm.isnumeric())"
      ],
      "metadata": {
        "colab": {
          "base_uri": "https://localhost:8080/"
        },
        "id": "5b9ezdAKTGCD",
        "outputId": "cfa7bf81-585e-4c04-9087-fcd4562ee36a"
      },
      "execution_count": 86,
      "outputs": [
        {
          "output_type": "stream",
          "name": "stdout",
          "text": [
            "False\n",
            "True\n",
            "False\n"
          ]
        }
      ]
    },
    {
      "cell_type": "code",
      "source": [
        "#The join() method returns a string, which is the concatenation of the string\n",
        "#with the string elements of the specified iterable as an argument.\n",
        "sep = ','\n",
        "names = ['Steve', 'Bill', 'Ravi', 'Jonathan'] # list\n",
        "print(sep.join(names))\n",
        "\n",
        "mystr = 'Hello' # string\n",
        "print(','.join(mystr))\n",
        "\n",
        "nums = ('1', '2', '3', '4') # tuple\n",
        "print(sep.join(nums))\n",
        "\n",
        "langs = {'Python', 'C#', 'Java', 'C++'} # set\n",
        "print(sep.join(langs))"
      ],
      "metadata": {
        "colab": {
          "base_uri": "https://localhost:8080/"
        },
        "id": "ifUBs4xSTF_b",
        "outputId": "f64cde46-5e11-4d95-d838-964690d992e5"
      },
      "execution_count": 97,
      "outputs": [
        {
          "output_type": "stream",
          "name": "stdout",
          "text": [
            "Steve,Bill,Ravi,Jonathan\n",
            "H,e,l,l,o\n",
            "1,2,3,4\n",
            "C++,Java,C#,Python\n"
          ]
        }
      ]
    },
    {
      "cell_type": "markdown",
      "source": [
        "The replace() method returns a copy of the string where all occurrences of a substring are replaced with another substring. The number of times substrings should be replaced by another substring can also be specified."
      ],
      "metadata": {
        "id": "SIpSIUrbYewL"
      }
    },
    {
      "cell_type": "code",
      "source": [
        "mystr = 'apples, bananas, apples, apples, cherries'\n",
        "print(mystr.replace('apples','lemons'))\n",
        "\n",
        "mystr = 'Good Morning!'\n",
        "print(mystr.replace('g','f')) # replace small g with f\n",
        "\n",
        "mystr = 'Python, Java, Python, C are programming languages'\n",
        "print(mystr.replace('Python','SQL',1))#no.of times\n",
        "\n",
        "mystr = '100'\n",
        "print(mystr.replace('1','2'))\n",
        "\n",
        "mystr = '#100'\n",
        "print(mystr.replace('#','$'))"
      ],
      "metadata": {
        "colab": {
          "base_uri": "https://localhost:8080/"
        },
        "id": "vebyqxb6TF81",
        "outputId": "f564b4a5-8ee8-441c-c524-e0200f1f27fc"
      },
      "execution_count": 99,
      "outputs": [
        {
          "output_type": "stream",
          "name": "stdout",
          "text": [
            "lemons, bananas, lemons, lemons, cherries\n",
            "Good Morninf!\n",
            "SQL, Java, Python, C are programming languages\n",
            "200\n",
            "$100\n"
          ]
        }
      ]
    },
    {
      "cell_type": "markdown",
      "source": [
        "The split() method splits the string from the specified separator and returns a list object with string elements. The default separator is any whitespace character such as space, \\t, \\n, etc."
      ],
      "metadata": {
        "id": "rUEg97uQaLfm"
      }
    },
    {
      "cell_type": "code",
      "source": [
        "mystr = 'Hello World'\n",
        "print(mystr.split())\n",
        "\n",
        "langs = 'C,Python,R,Java,SQL,Hadoop'\n",
        "print(langs.split(','))\n",
        "\n",
        "langs = 'C,Python,R,Java,SQL,Hadoop'\n",
        "print(langs.split(',', 3))"
      ],
      "metadata": {
        "id": "tgxpBT8UY7Ak"
      },
      "execution_count": null,
      "outputs": []
    },
    {
      "cell_type": "markdown",
      "source": [
        "The strip() method returns a copy of the string by removing both the leading and the trailing characters. By default, it removes leading whitespaces if no argument passed."
      ],
      "metadata": {
        "id": "gPdkbyyhbKO3"
      }
    },
    {
      "cell_type": "code",
      "source": [
        "mystr = '     Hello World     '\n",
        "print(mystr.strip()) \n",
        "\n",
        "mystr = '''\n",
        "Python is \n",
        "a programming language'''\n",
        "print(mystr.strip())  \n",
        "\n",
        "mystr = '----Hello World----'\n",
        "print(mystr.strip('-'))  "
      ],
      "metadata": {
        "colab": {
          "base_uri": "https://localhost:8080/"
        },
        "id": "mcEm51lEY69r",
        "outputId": "371af808-13de-48a8-ec79-2583f20a9ec8"
      },
      "execution_count": 100,
      "outputs": [
        {
          "output_type": "stream",
          "name": "stdout",
          "text": [
            "Hello World\n",
            "Python is \n",
            "a programming language\n",
            "Hello World\n"
          ]
        }
      ]
    },
    {
      "cell_type": "code",
      "source": [
        "'#$2Hello World#$2'.strip('$2#')\n",
        "print('#$-2Hello World#$2'.strip('$2#'))\n",
        "\n",
        "print('www.tutorialsteacher.com/'.strip('/w.')) \n",
        "\n",
        "print('ābcā'.strip('ā')) # remove Unicode char"
      ],
      "metadata": {
        "colab": {
          "base_uri": "https://localhost:8080/"
        },
        "id": "p-ftqfw_Y66M",
        "outputId": "efde932e-2502-44b9-a6e6-32690948a80d"
      },
      "execution_count": 101,
      "outputs": [
        {
          "output_type": "stream",
          "name": "stdout",
          "text": [
            "-2Hello World\n",
            "tutorialsteacher.com\n",
            "bc\n"
          ]
        }
      ]
    },
    {
      "cell_type": "markdown",
      "source": [
        "**List**\n",
        "\n",
        "In Python, the list is a mutable sequence type. A list object contains one or more items of different data types in the square brackets [] separated by a comma."
      ],
      "metadata": {
        "id": "q0VUjlI_eK5t"
      }
    },
    {
      "cell_type": "code",
      "source": [
        "mylist=[] # empty list\n",
        "print(mylist)\n",
        "\n",
        "names=[\"Jeff\", \"Bill\", \"Steve\", \"Mohan\"] # string list\n",
        "print(names)\n",
        "\n",
        "item=[1, \"Jeff\", \"Computer\", 75.50, True] # list with heterogeneous data\n",
        "print(item)"
      ],
      "metadata": {
        "colab": {
          "base_uri": "https://localhost:8080/"
        },
        "id": "jmwm7IYDY63j",
        "outputId": "3a7d7cdd-4272-40b3-d151-b1a8c8ad47cc"
      },
      "execution_count": 102,
      "outputs": [
        {
          "output_type": "stream",
          "name": "stdout",
          "text": [
            "[]\n",
            "['Jeff', 'Bill', 'Steve', 'Mohan']\n",
            "[1, 'Jeff', 'Computer', 75.5, True]\n"
          ]
        }
      ]
    },
    {
      "cell_type": "code",
      "source": [
        "names=[\"Jeff\", \"Bill\", \"Steve\", \"Mohan\"] \n",
        "print(names[0]) # returns \"Jeff\"\n",
        "print(names[1]) # returns \"Bill\""
      ],
      "metadata": {
        "colab": {
          "base_uri": "https://localhost:8080/"
        },
        "id": "-abkj1MvY605",
        "outputId": "ab6ebdf0-b0a9-4191-a0b3-bf4ff59184bd"
      },
      "execution_count": 104,
      "outputs": [
        {
          "output_type": "stream",
          "name": "stdout",
          "text": [
            "Jeff\n",
            "Bill\n"
          ]
        }
      ]
    },
    {
      "cell_type": "code",
      "source": [
        "nums=[1, 2, 3, [4, 5, 6, [7, 8, [9]]], 10] \n",
        "print(names[0]) # returns 1\n",
        "print(names[1]) # returns 2\n",
        "print(names[3]) # returns [4, 5, 6, [7, 8, [9]]]"
      ],
      "metadata": {
        "colab": {
          "base_uri": "https://localhost:8080/"
        },
        "id": "iD5MjTndY6yZ",
        "outputId": "7839c8e8-109e-4bf2-9edc-4fe56295d4bc"
      },
      "execution_count": 105,
      "outputs": [
        {
          "output_type": "stream",
          "name": "stdout",
          "text": [
            "Jeff\n",
            "Bill\n",
            "Mohan\n"
          ]
        }
      ]
    },
    {
      "cell_type": "code",
      "source": [
        "nums=[1,2,3,4]\n",
        "print(type(nums))\n",
        "\n",
        "mylist=list('Hello')\n",
        "print(mylist)\n",
        "\n",
        "nums=list({1:'one',2:'two'})\n",
        "print(nums)\n",
        "\n",
        "nums=list((10, 20, 30))\n",
        "print(nums)\n",
        "\n",
        "nums=list({100, 200, 300})\n",
        "print(nums)"
      ],
      "metadata": {
        "colab": {
          "base_uri": "https://localhost:8080/"
        },
        "id": "ZMhvyWK5Y6tp",
        "outputId": "1c12b355-8c0c-4f0d-dc6d-1e1bd0ea4837"
      },
      "execution_count": 106,
      "outputs": [
        {
          "output_type": "stream",
          "name": "stdout",
          "text": [
            "<class 'list'>\n",
            "['H', 'e', 'l', 'l', 'o']\n",
            "[1, 2]\n",
            "[10, 20, 30]\n",
            "[200, 100, 300]\n"
          ]
        }
      ]
    },
    {
      "cell_type": "code",
      "source": [
        "names=[\"Jeff\", \"Bill\", \"Steve\", \"Mohan\"] \n",
        "\n",
        "for name in names:\n",
        "    print(name)"
      ],
      "metadata": {
        "colab": {
          "base_uri": "https://localhost:8080/"
        },
        "id": "pUfjdAWnfLkg",
        "outputId": "d69fbee7-1d57-4d8a-b096-9eb336b2e375"
      },
      "execution_count": 107,
      "outputs": [
        {
          "output_type": "stream",
          "name": "stdout",
          "text": [
            "Jeff\n",
            "Bill\n",
            "Steve\n",
            "Mohan\n"
          ]
        }
      ]
    },
    {
      "cell_type": "code",
      "source": [
        "names=[\"Jeff\", \"Bill\", \"Steve\", \"Mohan\"] \n",
        "names[0]=\"Newton\" # update 1st item at index 0\n",
        "names[1]=\"Ram\" # update 2nd item at index 1\n",
        "\n",
        "names.append(\"Abdul\") # adds new item at the end\n",
        "\n",
        "print(names)"
      ],
      "metadata": {
        "id": "aiu9GOQffLUA"
      },
      "execution_count": null,
      "outputs": []
    },
    {
      "cell_type": "code",
      "source": [
        "names=[\"Jeff\", \"Bill\", \"Steve\", \"Mohan\"] \n",
        "del names[0] # removes item at index 0\n",
        "print(\"After del names[0]: \", names)\n",
        "\n",
        "names.remove(\"Bill\") # removes \"Bill\"\n",
        "print(names)\n",
        "\n",
        "print(names.pop(0)) # return and removes item at index 0\n",
        "print(\"After names.pop(0): \", names)\n",
        "\n",
        "names.pop() # return removes item at last index\n",
        "print(\"After names.pop(): \", names)\n",
        "\n",
        "del names # removes entire list object"
      ],
      "metadata": {
        "colab": {
          "base_uri": "https://localhost:8080/"
        },
        "id": "T0Goc8YyfW5b",
        "outputId": "97f03ff6-f3a4-48a9-bd57-8b4a33193d0d"
      },
      "execution_count": 110,
      "outputs": [
        {
          "output_type": "stream",
          "name": "stdout",
          "text": [
            "After del names[0]:  ['Bill', 'Steve', 'Mohan']\n",
            "['Steve', 'Mohan']\n",
            "Steve\n",
            "After names.pop(0):  ['Mohan']\n",
            "After names.pop():  []\n"
          ]
        }
      ]
    },
    {
      "cell_type": "markdown",
      "source": [
        "List methods"
      ],
      "metadata": {
        "id": "4JW0jECSgoTe"
      }
    },
    {
      "cell_type": "code",
      "source": [
        "#append()\n",
        "number = 1\n",
        "cities = ['Mumbai', 'London', 'Paris', 'New York']\n",
        "cities.append(number)\n",
        "print(cities)"
      ],
      "metadata": {
        "colab": {
          "base_uri": "https://localhost:8080/"
        },
        "id": "m4YLR-M5gGsN",
        "outputId": "7989b19c-050e-414f-e2f7-56a0e2fb285c"
      },
      "execution_count": 111,
      "outputs": [
        {
          "output_type": "stream",
          "name": "stdout",
          "text": [
            "['Mumbai', 'London', 'Paris', 'New York', 1]\n"
          ]
        }
      ]
    },
    {
      "cell_type": "code",
      "source": [
        "#clear()\n",
        "cities = ['Mumbai', 'London', 'Paris', 'New York']\n",
        "print(\"Before calling clear(): \", cities)\n",
        "cities.clear()\n",
        "print(\"After calling clear(): \", cities)"
      ],
      "metadata": {
        "colab": {
          "base_uri": "https://localhost:8080/"
        },
        "id": "X1ugE18Bg2Sk",
        "outputId": "0b5a89d8-9570-4b43-dd08-75c61ade5175"
      },
      "execution_count": 112,
      "outputs": [
        {
          "output_type": "stream",
          "name": "stdout",
          "text": [
            "Before calling clear():  ['Mumbai', 'London', 'Paris', 'New York']\n",
            "After calling clear():  []\n"
          ]
        }
      ]
    },
    {
      "cell_type": "code",
      "source": [
        "#copy()\n",
        "cities = ['Mumbai', 'London', 'Paris', 'New York']\n",
        "favCities = cities.copy()\n",
        "print(\"Original list: \", cities)\n",
        "print(\"Copied list: \", favCities)\n",
        "\n",
        "favCities.append('Delhi')\n",
        "print(\"Original list: \", cities)\n",
        "print(\"Copied list: \", favCities)"
      ],
      "metadata": {
        "colab": {
          "base_uri": "https://localhost:8080/"
        },
        "id": "s1J5wTs9hOaV",
        "outputId": "ef39440b-c5fa-48c3-cee5-aa8acf115b4c"
      },
      "execution_count": 113,
      "outputs": [
        {
          "output_type": "stream",
          "name": "stdout",
          "text": [
            "Original list:  ['Mumbai', 'London', 'Paris', 'New York']\n",
            "Copied list:  ['Mumbai', 'London', 'Paris', 'New York']\n",
            "Original list:  ['Mumbai', 'London', 'Paris', 'New York']\n",
            "Copied list:  ['Mumbai', 'London', 'Paris', 'New York', 'Delhi']\n"
          ]
        }
      ]
    },
    {
      "cell_type": "code",
      "source": [
        "#count()\n",
        "num = 5\n",
        "oddNums = [1, 3, 7, 11, 51, 23]\n",
        "count = oddNums.count(num)\n",
        "print(\"Number of times 5 appears is: \", count)"
      ],
      "metadata": {
        "colab": {
          "base_uri": "https://localhost:8080/"
        },
        "id": "RosDmXBChOW1",
        "outputId": "dd4f6ba8-c678-4ce4-c52c-04f2eda2bf44"
      },
      "execution_count": 114,
      "outputs": [
        {
          "output_type": "stream",
          "name": "stdout",
          "text": [
            "Number of times 5 appears is:  0\n"
          ]
        }
      ]
    },
    {
      "cell_type": "code",
      "source": [
        "#extend()\n",
        "cities = ['Mumbai', 'London', 'Paris', 'New York']\n",
        "newCities = ['Delhi', 'Chicago']\n",
        "cities.extend(newCities)\n",
        "print(\"Updated List: \", cities)"
      ],
      "metadata": {
        "colab": {
          "base_uri": "https://localhost:8080/"
        },
        "id": "StgnzxCghOUI",
        "outputId": "85d915c1-ccf4-4daa-c8a0-80c469812294"
      },
      "execution_count": 115,
      "outputs": [
        {
          "output_type": "stream",
          "name": "stdout",
          "text": [
            "Updated List:  ['Mumbai', 'London', 'Paris', 'New York', 'Delhi', 'Chicago']\n"
          ]
        }
      ]
    },
    {
      "cell_type": "code",
      "source": [
        "#extend() with tupel\n",
        "cities = ['Mumbai', 'London', 'Paris', 'New York']\n",
        "cities_tup = ('Delhi','Chicago')\n",
        "cities.extend(cities_tup)\n",
        "print(\"Updated List: \", cities)"
      ],
      "metadata": {
        "colab": {
          "base_uri": "https://localhost:8080/"
        },
        "id": "H_eW2_YFhORu",
        "outputId": "b8ecb77a-2bf1-4492-979f-d04171bb108c"
      },
      "execution_count": 116,
      "outputs": [
        {
          "output_type": "stream",
          "name": "stdout",
          "text": [
            "Updated List:  ['Mumbai', 'London', 'Paris', 'New York', 'Delhi', 'Chicago']\n"
          ]
        }
      ]
    },
    {
      "cell_type": "code",
      "source": [
        "#extend() with set\n",
        "cities = ['Mumbai', 'London', 'Paris', 'New York']\n",
        "cities_set = {'Delhi','Chicago'}\n",
        "cities.extend(cities_set)\n",
        "print(\"Updated List: \",cities)"
      ],
      "metadata": {
        "colab": {
          "base_uri": "https://localhost:8080/"
        },
        "id": "YOc7z2DchOPH",
        "outputId": "64077873-32ca-49fe-b0d3-6e3a9fab1390"
      },
      "execution_count": 117,
      "outputs": [
        {
          "output_type": "stream",
          "name": "stdout",
          "text": [
            "Updated List:  ['Mumbai', 'London', 'Paris', 'New York', 'Chicago', 'Delhi']\n"
          ]
        }
      ]
    },
    {
      "cell_type": "code",
      "source": [
        "#extend() with dictionary\n",
        "cities = ['Mumbai', 'London', 'Paris', 'New York']\n",
        "capitals = {'New Delhi':'India','Washington DC':'USA'}\n",
        "cities.extend(capitals) # adds items of dict as elements\n",
        "print(\"Updated List: \",cities)"
      ],
      "metadata": {
        "colab": {
          "base_uri": "https://localhost:8080/"
        },
        "id": "5ViJdG3skqpE",
        "outputId": "43d751e4-a839-4438-ccd1-768525b0d6de"
      },
      "execution_count": 118,
      "outputs": [
        {
          "output_type": "stream",
          "name": "stdout",
          "text": [
            "Updated List:  ['Mumbai', 'London', 'Paris', 'New York', 'New Delhi', 'Washington DC']\n"
          ]
        }
      ]
    },
    {
      "cell_type": "markdown",
      "source": [
        "The extend() method adds items of the specified iterable at the end of the list, whereas the append() method adds the whole iterable as an item at the end of the list."
      ],
      "metadata": {
        "id": "fGUmLo-WmrpB"
      }
    },
    {
      "cell_type": "code",
      "source": [
        "cities = ['Mumbai', 'London']\n",
        "bigcities = ['Washington DC', 'Banglore']\n",
        "favcities = ['Paris', 'New York']\n",
        "\n",
        "cities.extend(favcities)\n",
        "bigcities.append(favcities)\n",
        "\n",
        "print(\"Cities: \", cities)\n",
        "print(\"Big Cities: \", bigcities)"
      ],
      "metadata": {
        "colab": {
          "base_uri": "https://localhost:8080/"
        },
        "id": "N-6kRJYlmh3g",
        "outputId": "169338e4-8c82-43bd-ad40-c84471765876"
      },
      "execution_count": 119,
      "outputs": [
        {
          "output_type": "stream",
          "name": "stdout",
          "text": [
            "Cities:  ['Mumbai', 'London', 'Paris', 'New York']\n",
            "Big Cities:  ['Washington DC', 'Banglore', ['Paris', 'New York']]\n"
          ]
        }
      ]
    },
    {
      "cell_type": "code",
      "source": [
        "numbers = [1, 5, 3, 4, 5, 6, 3, 5, 9, 6]\n",
        "\n",
        "pos = numbers.index(5) # starts from 0 till end\n",
        "print(\"The index of 5: \", pos)\n",
        "\n",
        "pos = numbers.index(5, 2, 5) # starts from 2nd index till 4th index \n",
        "print(\"The index of 5 from 2nd index: \", pos)\n",
        "\n",
        "pos = numbers.index(5, 5) # starts from 5th index till end\n",
        "print(\"The index of 5 from 5th index: \", pos)"
      ],
      "metadata": {
        "colab": {
          "base_uri": "https://localhost:8080/"
        },
        "id": "OPA1GLBpni0G",
        "outputId": "7cf59333-c759-4d52-8fc7-bd64cf7ad2cb"
      },
      "execution_count": 121,
      "outputs": [
        {
          "output_type": "stream",
          "name": "stdout",
          "text": [
            "The index of 5:  1\n",
            "The index of 5 from 2nd index:  4\n",
            "The index of 5 from 5th index:  7\n"
          ]
        }
      ]
    },
    {
      "cell_type": "code",
      "source": [
        "#The list.insert() method is used to insert a value at a given position in the list.\n",
        "mycities = {'Delhi','Chennai'}\n",
        "favcities = ('Hyderabad','Bangalore')\n",
        "worldcities = ['Mumbai', 'London', 'New York']\n",
        "worldcities.insert(1, mycities)\n",
        "worldcities.insert(3, favcities)\n",
        "\n",
        "print(\"Cities: \", cities)\n",
        "\n",
        "cities = ['Mumbai', 'London', 'Paris', 'New York']\n",
        "cities.insert(3, 'Delhi')\n",
        "print(cities)"
      ],
      "metadata": {
        "colab": {
          "base_uri": "https://localhost:8080/"
        },
        "id": "mD40KyvKoY-d",
        "outputId": "6137d3de-1835-4a7f-b93f-8c9d742c6c73"
      },
      "execution_count": 123,
      "outputs": [
        {
          "output_type": "stream",
          "name": "stdout",
          "text": [
            "Cities:  ['Mumbai', 'London', 'Paris', 'New York']\n",
            "['Mumbai', 'London', 'Paris', 'Delhi', 'New York']\n"
          ]
        }
      ]
    },
    {
      "cell_type": "code",
      "source": [
        "#pop() default last element is poped\n",
        "cities = ['Mumbai', 'London', 'Paris', 'New York']\n",
        "\n",
        "print(cities.pop()) # returns and removes 'New York'\n",
        "print('List Elements: ', cities)\n",
        "\n",
        "print(cities.pop()) # returns and removes 'Paris'\n",
        "print(cities)\n",
        "\n",
        "cities = ['Mumbai', 'London', 'Paris', 'New York']\n",
        "city = cities.pop(0)\n",
        "print(city)\n",
        "print(\"List Elements: \",cities)\n",
        "\n",
        "city = cities.pop(2)\n",
        "print(city)\n",
        "print(\"List Elements: \",cities)"
      ],
      "metadata": {
        "colab": {
          "base_uri": "https://localhost:8080/"
        },
        "id": "m0omuMR5q8FU",
        "outputId": "ee58b9ff-453e-4d7d-a341-5c817eb78297"
      },
      "execution_count": 126,
      "outputs": [
        {
          "output_type": "stream",
          "name": "stdout",
          "text": [
            "New York\n",
            "List Elements:  ['Mumbai', 'London', 'Paris']\n",
            "Paris\n",
            "['Mumbai', 'London']\n",
            "Mumbai\n",
            "List Elements:  ['London', 'Paris', 'New York']\n",
            "New York\n",
            "List Elements:  ['London', 'Paris']\n"
          ]
        }
      ]
    },
    {
      "cell_type": "code",
      "source": [
        "#remove() default first element is poped\n",
        "cities = ['Mumbai', 'London', 'Paris', 'New York']\n",
        "cities.remove('Mumbai')\n",
        "print(\"Updated List: \",cities)\n",
        "cities.remove('Paris')\n",
        "print(\"Updated List: \",cities)\n",
        "\n",
        "numbers = [1, 2, 3, 4, 5, 6]\n",
        "numbers.remove(5)\n",
        "print(numbers)"
      ],
      "metadata": {
        "colab": {
          "base_uri": "https://localhost:8080/"
        },
        "id": "_-R2IAzxru1W",
        "outputId": "b1b7644e-6aec-4627-aee5-38db4f0e5801"
      },
      "execution_count": 127,
      "outputs": [
        {
          "output_type": "stream",
          "name": "stdout",
          "text": [
            "Updated List:  ['London', 'Paris', 'New York']\n",
            "Updated List:  ['London', 'New York']\n",
            "[1, 2, 3, 4, 6]\n"
          ]
        }
      ]
    },
    {
      "cell_type": "code",
      "source": [
        "#reverse()\n",
        "cities = ['Mumbai', 'London', 'Chicago', 'Paris', 'New York']\n",
        "print(\"Original List: \", cities)\n",
        "cities.reverse()\n",
        "print(\"Reversed List: \", cities)\n",
        "\n",
        "nums = [1, 2, 3, 4, 5]\n",
        "print(\"Original List: \", nums)\n",
        "\n",
        "nums.reverse()\n",
        "print(\"Reversed List: \", nums)\n",
        "\n",
        "#You can use the slicing operator [::-1] to get a new reversed list\n",
        "nums = [1, 2, 3, 4, 5]\n",
        "rev_nums = nums[::-1]\n",
        "\n",
        "print(\"Original List: \", nums)\n",
        "print(\"Reversed List: \", rev_nums)\n"
      ],
      "metadata": {
        "colab": {
          "base_uri": "https://localhost:8080/"
        },
        "id": "n1mlpT2ItGT6",
        "outputId": "c08749e7-711f-4cd0-a9c6-bc7753c504c6"
      },
      "execution_count": 129,
      "outputs": [
        {
          "output_type": "stream",
          "name": "stdout",
          "text": [
            "Original List:  ['Mumbai', 'London', 'Chicago', 'Paris', 'New York']\n",
            "Reversed List:  ['New York', 'Paris', 'Chicago', 'London', 'Mumbai']\n",
            "Original List:  [1, 2, 3, 4, 5]\n",
            "Reversed List:  [5, 4, 3, 2, 1]\n",
            "Original List:  [1, 2, 3, 4, 5]\n",
            "Reversed List:  [5, 4, 3, 2, 1]\n"
          ]
        }
      ]
    },
    {
      "cell_type": "code",
      "source": [
        "#sort()\n",
        "nums = [1, 5, 3, 4, 2, 10, 6, 8, 7, 9]\n",
        "nums.sort()\n",
        "print('List in Ascending Order: ', nums)\n",
        "\n",
        "nums.sort(reverse=True)\n",
        "print('List in Descending Order: ', nums)\n",
        "\n",
        "cities = ['Mumbai', 'London', 'Paris', 'New York']\n",
        "\n",
        "cities.sort(key=len)\n",
        "print('List in Ascending Order of the length: ', cities)\n",
        "\n",
        "cities.sort(key=len, reverse=True)#key:on what base the sorting should occur\n",
        "print('List in Descending Order of the length: ', cities)"
      ],
      "metadata": {
        "colab": {
          "base_uri": "https://localhost:8080/"
        },
        "id": "Zm7hWet4tR2c",
        "outputId": "22ab0ce8-ca4e-4967-c8e1-ce454c39afca"
      },
      "execution_count": 131,
      "outputs": [
        {
          "output_type": "stream",
          "name": "stdout",
          "text": [
            "List in Ascending Order:  [1, 2, 3, 4, 5, 6, 7, 8, 9, 10]\n",
            "List in Descending Order:  [10, 9, 8, 7, 6, 5, 4, 3, 2, 1]\n",
            "List in Ascending Order of the length:  ['Paris', 'Mumbai', 'London', 'New York']\n",
            "List in Descending Order of the length:  ['New York', 'Mumbai', 'London', 'Paris']\n"
          ]
        }
      ]
    },
    {
      "cell_type": "code",
      "source": [
        "#The following example shows how to sort a list \n",
        "#whose elements are the objects of the custom class.\n",
        "class student:\n",
        "\tname=''\n",
        "\tage=0\n",
        "\tdef __init__(self, name, age):\n",
        "\t\tself.name = name\n",
        "\t\tself.age = age\n",
        "\n",
        "s1 = student('Bill', 25)\n",
        "s2 = student('Steve', 29)\n",
        "s3 = student('Ravi', 26)\n",
        "\n",
        "student_list = [s1, s2, s3]\n",
        "# student_list.sort() # raise an error\n",
        "\n",
        "student_list.sort(key=lambda s: s.name) # sorts using lambda function\n",
        "\n",
        "print('Students in Ascending Order:')\n",
        "\n",
        "for std in student_list:\n",
        "\tprint(std.name, end=', ')\n",
        "\n",
        "student_list.sort(key=lambda s: s.name, reverse=True) # sorts using lambda function\n",
        "print('\\n')\n",
        "print('Students in Descending Order:')\n",
        "\n",
        "for std in student_list:\n",
        "\tprint(std.name, end=', ')"
      ],
      "metadata": {
        "colab": {
          "base_uri": "https://localhost:8080/"
        },
        "id": "0Uw_5xz8uRCP",
        "outputId": "5b0bfc3e-2e85-43b8-daa8-b23c397581a1"
      },
      "execution_count": 140,
      "outputs": [
        {
          "output_type": "stream",
          "name": "stdout",
          "text": [
            "Students in Ascending Order:\n",
            "Bill, Ravi, Steve, \n",
            "\n",
            "Students in Descending Order:\n",
            "Steve, Ravi, Bill, "
          ]
        }
      ]
    },
    {
      "cell_type": "markdown",
      "source": [
        "**Tupel**\n",
        "\n",
        "Tuple is an immutable (unchangeable) collection of elements of different data types. It is an ordered collection, so it preserves the order of elements in which they were defined.\n",
        "\n",
        "Tuples are defined by enclosing elements in parentheses (), separated by a comma. The following declares a tuple type variable.\n"
      ],
      "metadata": {
        "id": "paCYRR_UvDHx"
      }
    },
    {
      "cell_type": "code",
      "source": [
        "#defining tupels\n",
        "tpl=() # empty tuple\n",
        "print(tpl)\n",
        "\n",
        "names = ('Jeff', 'Bill', 'Steve', 'Yash') # string tuple\n",
        "print(names)\n",
        "\n",
        "nums = (1, 2, 3, 4, 5) # int tuple\n",
        "print(nums)\n",
        "\n",
        "employee=(1, 'Steve', True, 25, 12000)  # heterogeneous data tuple\n",
        "print(employee)\n",
        "#() is not necessary"
      ],
      "metadata": {
        "colab": {
          "base_uri": "https://localhost:8080/"
        },
        "id": "vKNJHB8cvCz-",
        "outputId": "1c713323-a1f3-4b2a-9ac7-445b6147b903"
      },
      "execution_count": 141,
      "outputs": [
        {
          "output_type": "stream",
          "name": "stdout",
          "text": [
            "()\n",
            "('Jeff', 'Bill', 'Steve', 'Yash')\n",
            "(1, 2, 3, 4, 5)\n",
            "(1, 'Steve', True, 25, 12000)\n"
          ]
        }
      ]
    },
    {
      "cell_type": "code",
      "source": [
        "#Access tuple\n",
        "names = ('Jeff', 'Bill', 'Steve', 'Yash') \n",
        "print(names[0]) # prints 'Jeff'\n",
        "print(names[1]) # prints 'Bill'\n",
        "\n",
        "nums = (1, 2, 3, 4, 5) \n",
        "print(nums[0]) # prints 1\n",
        "print(nums[1]) # prints 2\n",
        "\n",
        "names = ('Jeff', 'Bill', 'Steve', 'Yash') \n",
        "print(names[-4]) # prints 'Jeff'\n",
        "print(names[-3]) # prints 'Bill'\n",
        "\n",
        "names = ('Jeff', 'Bill', 'Steve', 'Yash') \n",
        "a, b, c, d = names # unpack tuple\n",
        "print(a, b, c, d)"
      ],
      "metadata": {
        "colab": {
          "base_uri": "https://localhost:8080/"
        },
        "id": "V0YWhuzWxCpT",
        "outputId": "2ed54449-f8a7-4fac-abcc-c7f15bc61f82"
      },
      "execution_count": 142,
      "outputs": [
        {
          "output_type": "stream",
          "name": "stdout",
          "text": [
            "Jeff\n",
            "Bill\n",
            "1\n",
            "2\n",
            "Jeff\n",
            "Bill\n",
            "Jeff Bill Steve Yash\n"
          ]
        }
      ]
    },
    {
      "cell_type": "code",
      "source": [
        " #you can only delete the full tupel\n",
        " del names"
      ],
      "metadata": {
        "id": "PJEN1p1ByATz"
      },
      "execution_count": 143,
      "outputs": []
    },
    {
      "cell_type": "code",
      "source": [
        "tpl = tuple('Hello') # converts string to tuple\n",
        "print(tpl)\n",
        "tpl = tuple([1,2,3,4,5]) # converts list to tuple\n",
        "print(tpl)\n",
        "tpl = tuple({1,2,3,4,5}) # converts set to tuple\n",
        "print(tpl)\n",
        "tpl = tuple({1:\"One\",2:\"Two\"}) # converts dictionary to tuple\n",
        "print(tpl)"
      ],
      "metadata": {
        "colab": {
          "base_uri": "https://localhost:8080/"
        },
        "id": "prHG6gpNyG3S",
        "outputId": "553fa945-797b-48e9-cca0-bdb57a3bf4a1"
      },
      "execution_count": 144,
      "outputs": [
        {
          "output_type": "stream",
          "name": "stdout",
          "text": [
            "('H', 'e', 'l', 'l', 'o')\n",
            "(1, 2, 3, 4, 5)\n",
            "(1, 2, 3, 4, 5)\n",
            "(1, 2)\n"
          ]
        }
      ]
    },
    {
      "cell_type": "markdown",
      "source": [
        "**Set**\n",
        "A set is a mutable collection of distinct hashable objects, same as the list and tuple. It is an unordered collection of objects, meaning it does not record element position or order of insertion and so cannot access elements using indexes.\n",
        "\n",
        "The set is a Python implementation of the set in Mathematics. A set object has suitable methods to perform mathematical set operations like union, intersection, difference, etc.\n",
        "\n",
        "A set object contains one or more items, not necessarily of the same type, which are separated by a comma and enclosed in curly brackets {}. The following defines a set object with even numbers."
      ],
      "metadata": {
        "id": "Fdg8A1R0yZ80"
      }
    },
    {
      "cell_type": "code",
      "source": [
        "even_nums = {2, 4, 6, 8, 10} # set of even numbers\n",
        "emp = {1, 'Steve', 10.5, True} # set of different objects"
      ],
      "metadata": {
        "id": "c-QjjpFCylVj"
      },
      "execution_count": 145,
      "outputs": []
    },
    {
      "cell_type": "markdown",
      "source": [
        "Only immutable (and hashable) objects can be a part of a set object. Numbers (integer, float, as well as complex), strings, and tuple objects are accepted, but set, list, and dictionary objects are not."
      ],
      "metadata": {
        "id": "qD4NX2R6y803"
      }
    },
    {
      "cell_type": "code",
      "source": [
        "s = set('Hello') # converts string to set\n",
        "print(s)\n",
        "s = set((1,2,3,4,5)) # converts tuple to set\n",
        "print(s)\n",
        "d = {1:'One', 2: 'Two'} \n",
        "s = set(d) # converts dict to set\n",
        "print(s)"
      ],
      "metadata": {
        "colab": {
          "base_uri": "https://localhost:8080/"
        },
        "id": "P-Fw0qgjymRL",
        "outputId": "0f77b8ff-fd21-4ffe-8c43-e308fd5ad3b2"
      },
      "execution_count": 146,
      "outputs": [
        {
          "output_type": "stream",
          "name": "stdout",
          "text": [
            "{'l', 'H', 'o', 'e'}\n",
            "{1, 2, 3, 4, 5}\n",
            "{1, 2}\n"
          ]
        }
      ]
    },
    {
      "cell_type": "code",
      "source": [
        "#add()\n",
        "lang = {'Python', 'C++', 'Java', 'C'}\n",
        "lang.add('Go')\n",
        "print(lang)\n",
        "\n",
        "#clear()\n",
        "langs = {'Python','C++','C','Go'}\n",
        "langs.clear()\n",
        "print(\"Set after the clear() method is called: \", langs)\n",
        "\n",
        "#copy()\n",
        "langs = {'Python','C++','Java'}\n",
        "\n",
        "copiedLangs = langs.copy()\n",
        "copiedLangs.add('PHP')\n",
        "\n",
        "print(\"Original Set: \", langs)\n",
        "print(\"Copied Set: \", copiedLangs)\n",
        "\n",
        "#We can also copy the set using an = operator, but when any change is made to the copied set, \n",
        "#it will also be reflected in the original set, as shown below."
      ],
      "metadata": {
        "colab": {
          "base_uri": "https://localhost:8080/"
        },
        "id": "BOtMoSWXymN2",
        "outputId": "62821a92-f7bc-4fc6-99eb-576a8ab6c216"
      },
      "execution_count": 149,
      "outputs": [
        {
          "output_type": "stream",
          "name": "stdout",
          "text": [
            "{'Go', 'C++', 'Java', 'C', 'Python'}\n",
            "Set after the clear() method is called:  set()\n",
            "Original Set:  {'C++', 'Java', 'Python'}\n",
            "Copied Set:  {'PHP', 'C++', 'Java', 'Python'}\n"
          ]
        }
      ]
    },
    {
      "cell_type": "code",
      "source": [
        "#difference(A-B)\n",
        "nums1 = {1, 2, 2, 3, 4, 5}\n",
        "nums2 = {4, 5, 6, 7, 8, 8}\n",
        "\n",
        "nums3 = nums1.difference(nums2)\n",
        "nums4 = nums2.difference(nums1)\n",
        "\n",
        "print(\"nums1 - nums2: \", nums3)\n",
        "print(\"nums2 - nums1: \", nums4)\n",
        "\n",
        "nums1 = {1, 2, 2, 3, 4, 5}\n",
        "nums2 = {4, 5, 6, 7, 8, 8}\n",
        "nums3 = { 3, 5, 8, 9, 10}\n",
        "\n",
        "diff = nums1 - nums2 - nums3\n",
        "print('Numbers Differences: ', diff)\n",
        "\n",
        "#difference_update()\n",
        "empids = {1,2,3,4,5}\n",
        "mgrids = {1,2,3}\n",
        "empids.difference_update(mgrids)\n",
        "print(\"empids: \", empids)\n",
        "print(\"mgrids: \", mgrids)"
      ],
      "metadata": {
        "colab": {
          "base_uri": "https://localhost:8080/"
        },
        "id": "RhBz94zBymLo",
        "outputId": "828cf0c6-feff-4970-d635-832af2142e1f"
      },
      "execution_count": 152,
      "outputs": [
        {
          "output_type": "stream",
          "name": "stdout",
          "text": [
            "nums1 - nums2:  {1, 2, 3}\n",
            "nums2 - nums1:  {8, 6, 7}\n",
            "Numbers Differences:  {1, 2}\n",
            "empids:  {4, 5}\n",
            "mgrids:  {1, 2, 3}\n"
          ]
        }
      ]
    },
    {
      "cell_type": "code",
      "source": [
        "#discard()\n",
        "langs = {'Python','Go','C++','Java'}\n",
        "langs.discard('C++')\n",
        "print(\"The set after discard() is called: \",langs)"
      ],
      "metadata": {
        "colab": {
          "base_uri": "https://localhost:8080/"
        },
        "id": "c6vmhjKQymGc",
        "outputId": "9ae2fc8a-d04f-4eb1-aa86-05fa1480557b"
      },
      "execution_count": 154,
      "outputs": [
        {
          "output_type": "stream",
          "name": "stdout",
          "text": [
            "The set after discard() is called:  {'Go', 'Java', 'Python'}\n"
          ]
        }
      ]
    },
    {
      "cell_type": "code",
      "source": [
        "#intersection()\n",
        "nums = {1, 2, 3, 4, 5 }\n",
        "oddNums = {1, 3, 5, 7, 9}\n",
        "commonNums = nums.intersection(oddNums)\n",
        "print(\"Common elements in nums and oddNums are: \", commonNums)\n",
        "\n",
        "nums = {1,2,3,4,5,6,7,8,9,10}\n",
        "oddNums = {1,3,5,6,7,9}\n",
        "primeNums = {2,3,5,7}\n",
        "commonNums = nums & oddNums & primeNums\n",
        "\n",
        "print(\"Common elements: \", commonNums)"
      ],
      "metadata": {
        "colab": {
          "base_uri": "https://localhost:8080/"
        },
        "id": "IsL1NUATymDh",
        "outputId": "353084eb-41a3-418b-d6a6-967b4d10ec78"
      },
      "execution_count": 156,
      "outputs": [
        {
          "output_type": "stream",
          "name": "stdout",
          "text": [
            "Common elements in nums and oddNums are:  {1, 3, 5}\n",
            "Common elements:  {3, 5, 7}\n"
          ]
        }
      ]
    },
    {
      "cell_type": "code",
      "source": [
        "#union()\n",
        "nums1 = {1, 2, 2, 3, 4, 5}\n",
        "nums2 = {4, 5, 6, 7, 7, 8}\n",
        "\n",
        "distinct_nums = nums1.union(nums2)\n",
        "\n",
        "print(\"The union of two sets is: \", distinct_nums)\n",
        "\n",
        "nums1 = {1, 2, 2, 3, 4, 5}\n",
        "nums2 = {4, 5, 6, 6, 7, 8, 8}\n",
        "nums3 = {7, 8, 9, 10}\n",
        "\n",
        "distinct_nums = nums1 | nums2 | nums3\n",
        "\n",
        "print(\"The union of three sets is: \", distinct_nums)"
      ],
      "metadata": {
        "colab": {
          "base_uri": "https://localhost:8080/"
        },
        "id": "0nVyHchE3OSc",
        "outputId": "877c0aa4-03f8-4cfb-b858-0cd58192d05e"
      },
      "execution_count": 158,
      "outputs": [
        {
          "output_type": "stream",
          "name": "stdout",
          "text": [
            "The union of two sets is:  {1, 2, 3, 4, 5, 6, 7, 8}\n",
            "The union of three sets is:  {1, 2, 3, 4, 5, 6, 7, 8, 9, 10}\n"
          ]
        }
      ]
    },
    {
      "cell_type": "code",
      "source": [
        "#update,distinct elements are updated\n",
        "nums = {1, 2, 3}\n",
        "primeNums = {2, 3, 5, 7}\n",
        "\n",
        "nums.update(primeNums)\n",
        "print(\"Updated set: \", nums)\n",
        "\n",
        "nums = {1, 2, 3}\n",
        "oddNums = [1, 3, 5, 7, 9]\n",
        "evenNums = (2, 4, 6, 8, 10)\n",
        "\n",
        "nums.update(oddNums) # adding list elements\n",
        "print(\"Updated set: \", nums)\n",
        "\n",
        "nums.update(evenNums) # adding tuple elements\n",
        "print(\"Updated set: \", nums)\n",
        "\n",
        "# nums = nums | evenNums # throws error"
      ],
      "metadata": {
        "id": "TqcR3TbB3j9e"
      },
      "execution_count": null,
      "outputs": []
    },
    {
      "cell_type": "markdown",
      "source": [
        "** Dictionary**\n",
        "\n",
        "The dictionary is an unordered collection that contains key:value pairs separated by commas inside curly brackets. Dictionaries are optimized to retrieve values when the key is known\n",
        "\n",
        "Above, capitals is a dictionary object which contains key-value pairs inside { }. The left side of : is a key, and the right side is a value. The key should be unique and an immutable object. A number, string or tuple can be used as key.\n"
      ],
      "metadata": {
        "id": "dnlrI-BH5uqu"
      }
    },
    {
      "cell_type": "code",
      "source": [
        "d = {} # empty dictionary\n",
        "\n",
        "numNames={1:\"One\", 2: \"Two\", 3:\"Three\"} # int key, string value\n",
        "print(numNames)\n",
        "decNames={1.5:\"One and Half\", 2.5: \"Two and Half\", 3.5:\"Three and Half\"} # float key, string value\n",
        "print(decNames)\n",
        "items={(\"Parker\",\"Reynolds\",\"Camlin\"):\"pen\", (\"LG\",\"Whirlpool\",\"Samsung\"): \"Refrigerator\"} # tuple key, string value\n",
        "print(items)\n",
        "romanNums = {'I':1, 'II':2, 'III':3, 'IV':4, 'V':5} # string key, int value\n",
        "print(romanNums)\n",
        "dict_obj = {\"Fruit\":[\"Mango\",\"Banana\"], \"Color\":[\"Blue\", \"Red\"]}\n",
        "print(dict_obj)"
      ],
      "metadata": {
        "colab": {
          "base_uri": "https://localhost:8080/"
        },
        "id": "m4fnsBRV549R",
        "outputId": "a72799b3-92df-45db-dc0d-fb1187266f3b"
      },
      "execution_count": 161,
      "outputs": [
        {
          "output_type": "stream",
          "name": "stdout",
          "text": [
            "{1: 'One', 2: 'Two', 3: 'Three'}\n",
            "{1.5: 'One and Half', 2.5: 'Two and Half', 3.5: 'Three and Half'}\n",
            "{('Parker', 'Reynolds', 'Camlin'): 'pen', ('LG', 'Whirlpool', 'Samsung'): 'Refrigerator'}\n",
            "{'I': 1, 'II': 2, 'III': 3, 'IV': 4, 'V': 5}\n",
            "{'Fruit': ['Mango', 'Banana'], 'Color': ['Blue', 'Red']}\n"
          ]
        }
      ]
    },
    {
      "cell_type": "markdown",
      "source": [
        "The same key cannot appear more than once in a collection. If the key appears more than once, only the last will be retained. The value can be of any data type. One value can be assigned to more than one key."
      ],
      "metadata": {
        "id": "pWIYzRqU6qRD"
      }
    },
    {
      "cell_type": "code",
      "source": [
        "#Access dict values\n",
        "capitals = {\"USA\":\"Washington DC\", \"France\":\"Paris\", \"India\":\"New Delhi\"}\n",
        "print(capitals[\"USA\"])\n",
        "print(capitals[\"France\"])\n",
        "capitals = {\"USA\":\"Washington DC\", \"France\":\"Paris\", \"Japan\":\"Tokyo\", \"India\":\"New Delhi\"}\n",
        "print(capitals.get(\"USA\"))\n",
        "\n",
        "#Keys are case-sensitive. So, usa and USA are treated as different keys. \n",
        "#If the specified key does not exist then it will raise an error.\n",
        "\n",
        "capitals = {\"USA\":\"Washington D.C.\", \"France\":\"Paris\", \"India\":\"New Delhi\"}\n",
        "\n",
        "for key in capitals:\n",
        "    print(\"Key = \" + key + \", Value = \" + capitals[key]) "
      ],
      "metadata": {
        "colab": {
          "base_uri": "https://localhost:8080/"
        },
        "id": "nrbpy-O157q_",
        "outputId": "fd634409-deda-4eba-cc10-8d1281800bcd"
      },
      "execution_count": 163,
      "outputs": [
        {
          "output_type": "stream",
          "name": "stdout",
          "text": [
            "Washington DC\n",
            "Paris\n",
            "Washington DC\n"
          ]
        }
      ]
    },
    {
      "cell_type": "code",
      "source": [
        "#update existing values\n",
        "captains = {\"England\":\"Root\", \"Australia\":\"Smith\", \"India\":\"Dhoni\"}\n",
        "captains['India'] = 'Virat'\n",
        "print(captains)\n",
        "\n",
        "#New key-value \n",
        "captains['SouthAfrica']='Plessis'\n",
        "print(captains)"
      ],
      "metadata": {
        "colab": {
          "base_uri": "https://localhost:8080/"
        },
        "id": "OVf2LJTk57oi",
        "outputId": "62442863-5dc9-424e-fd9b-da37549aee57"
      },
      "execution_count": 168,
      "outputs": [
        {
          "output_type": "stream",
          "name": "stdout",
          "text": [
            "{'England': 'Root', 'Australia': 'Smith', 'India': 'Virat'}\n",
            "{'England': 'Root', 'Australia': 'Smith', 'India': 'Virat', 'SouthAfrica': 'Plessis'}\n"
          ]
        }
      ]
    },
    {
      "cell_type": "code",
      "source": [
        "#Direct accesse of keys,values\n",
        "d1 = {'name': 'Steve', 'age': 21, 'marks': 60, 'course': 'Computer Engg'}\n",
        "print(d1.keys())\n",
        "print(d1.values())"
      ],
      "metadata": {
        "colab": {
          "base_uri": "https://localhost:8080/"
        },
        "id": "HPtSofPK57mG",
        "outputId": "68204a64-3e7f-4fd7-80b4-8e63349bdced"
      },
      "execution_count": 170,
      "outputs": [
        {
          "output_type": "stream",
          "name": "stdout",
          "text": [
            "dict_keys(['name', 'age', 'marks', 'course'])\n",
            "dict_values(['Steve', 21, 60, 'Computer Engg'])\n"
          ]
        }
      ]
    },
    {
      "cell_type": "code",
      "source": [
        "#Multi-dimensional dictionary\n",
        "d1={\"name\":\"Steve\",\"age\":25, \"marks\":60}\n",
        "d2={\"name\":\"Anil\",\"age\":23, \"marks\":75}\n",
        "d3={\"name\":\"Asha\", \"age\":20, \"marks\":70}\n",
        "students={1:d1, 2:d2, 3:d3}\n",
        "print(students)\n",
        "print(students[1])\n",
        "for i in students[1]:\n",
        "  print(i)"
      ],
      "metadata": {
        "colab": {
          "base_uri": "https://localhost:8080/"
        },
        "id": "iKtOUg3s57jZ",
        "outputId": "dfdda374-1dfc-4835-82c9-8364473ae0b1"
      },
      "execution_count": 183,
      "outputs": [
        {
          "output_type": "stream",
          "name": "stdout",
          "text": [
            "{1: {'name': 'Steve', 'age': 25, 'marks': 60}, 2: {'name': 'Anil', 'age': 23, 'marks': 75}, 3: {'name': 'Asha', 'age': 20, 'marks': 70}}\n",
            "{'name': 'Steve', 'age': 25, 'marks': 60}\n",
            "name\n",
            "age\n",
            "marks\n"
          ]
        }
      ]
    },
    {
      "cell_type": "code",
      "source": [
        "keys = {'Mumbai','Bangalore','Chicago','New York'}\n",
        "value = 'city'\n",
        "dictionary = dict.fromkeys(keys,value)\n",
        "print(dictionary)"
      ],
      "metadata": {
        "colab": {
          "base_uri": "https://localhost:8080/"
        },
        "id": "ed1tipZH_AAd",
        "outputId": "8e58fa5e-c084-4b6b-af22-fb3553f9c3c1"
      },
      "execution_count": 186,
      "outputs": [
        {
          "output_type": "stream",
          "name": "stdout",
          "text": [
            "{'New York': 'city', 'Mumbai': 'city', 'Chicago': 'city', 'Bangalore': 'city'}\n"
          ]
        }
      ]
    },
    {
      "cell_type": "code",
      "source": [
        ""
      ],
      "metadata": {
        "id": "WKWjfKoJ57hF"
      },
      "execution_count": null,
      "outputs": []
    }
  ]
}